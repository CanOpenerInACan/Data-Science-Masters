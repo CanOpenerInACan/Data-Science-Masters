{
 "cells": [
  {
   "cell_type": "code",
   "execution_count": 1,
   "metadata": {},
   "outputs": [],
   "source": [
    "import pandas as pd\n",
    "import numpy as np\n",
    "from keras.utils.np_utils import to_categorical\n",
    "from keras.preprocessing.text import Tokenizer\n",
    "from keras import models\n",
    "from keras import layers\n",
    "import matplotlib.pyplot as plt\n",
    "from nltk.corpus import stopwords\n",
    "from nltk.stem import PorterStemmer\n",
    "from sklearn.feature_extraction.text import TfidfVectorizer\n",
    "from sklearn.model_selection import train_test_split\n",
    "from sklearn.metrics import confusion_matrix\n",
    "import seaborn as sns\n",
    "from sklearn.metrics import classification_report\n",
    "from sklearn.metrics import accuracy_score"
   ]
  },
  {
   "cell_type": "markdown",
   "metadata": {},
   "source": [
    "# Model #1: Sklearn Neural Network"
   ]
  },
  {
   "cell_type": "code",
   "execution_count": 2,
   "metadata": {},
   "outputs": [],
   "source": [
    "#Read in the dataframe\n",
    "comments = pd.read_json('categorized-comments.jsonl', lines = True, nrows = 606475)\n",
    "\n",
    "#Reduce the size of the dataframe. Our model will learn most with higher sample, but want it to run quickly\n",
    "comments_small = comments.sample(n=5000)"
   ]
  },
  {
   "cell_type": "code",
   "execution_count": 3,
   "metadata": {},
   "outputs": [
    {
     "name": "stderr",
     "output_type": "stream",
     "text": [
      "<ipython-input-3-a78645ab1712>:8: FutureWarning: The default value of regex will change from True to False in a future version.\n",
      "  comments_small.Tokens = comments_small.Tokens.str.replace('[^\\w\\s]','')\n"
     ]
    }
   ],
   "source": [
    "#Let's make a new column to tokenize and clean our comments\n",
    "comments_small['Tokens'] = comments_small.txt.astype(str)\n",
    "\n",
    "#Lowercase everything so we don't have some words appearing twice and occurences being split\n",
    "comments_small.Tokens = comments_small.Tokens.apply(lambda x: \" \".join(x.lower() for x in x.split()))\n",
    "\n",
    "#Remove all punctuation\n",
    "comments_small.Tokens = comments_small.Tokens.str.replace('[^\\w\\s]','')\n",
    "\n",
    "#Remove our stop words that don't hold much value\n",
    "stop = stopwords.words('english')\n",
    "comments_small.Tokens = comments_small.Tokens.apply(lambda x: \" \".join(x for x in x.split() if x not in stop))\n",
    "\n",
    "#Stem our words to help combine them\n",
    "stemmer = PorterStemmer()\n",
    "comments_small.Tokens = comments_small.Tokens.apply(lambda x: \" \".join([stemmer.stem(word) for word in x.split()]))"
   ]
  },
  {
   "cell_type": "code",
   "execution_count": 4,
   "metadata": {},
   "outputs": [],
   "source": [
    "#Lets find the 3000 most important words across the comments\n",
    "tfidf = TfidfVectorizer(max_features = 3000)"
   ]
  },
  {
   "cell_type": "code",
   "execution_count": 5,
   "metadata": {},
   "outputs": [],
   "source": [
    "#We are going to use our tokens column to predict our category column\n",
    "X = tfidf.fit_transform(comments_small.Tokens)\n",
    "y = comments_small.cat"
   ]
  },
  {
   "cell_type": "code",
   "execution_count": 6,
   "metadata": {},
   "outputs": [],
   "source": [
    "#Split it into train and test sets\n",
    "X_train, X_test, y_train, y_test = train_test_split(X, y, test_size =0.2, random_state=11)"
   ]
  },
  {
   "cell_type": "code",
   "execution_count": 7,
   "metadata": {},
   "outputs": [],
   "source": [
    "#Import our classifier\n",
    "from sklearn.neural_network import MLPClassifier"
   ]
  },
  {
   "cell_type": "code",
   "execution_count": 8,
   "metadata": {},
   "outputs": [],
   "source": [
    "#Get our model settings right\n",
    "nn_mod1 = MLPClassifier(hidden_layer_sizes = [500,150], verbose = True)"
   ]
  },
  {
   "cell_type": "code",
   "execution_count": 9,
   "metadata": {},
   "outputs": [
    {
     "name": "stdout",
     "output_type": "stream",
     "text": [
      "Iteration 1, loss = 0.82078696\n",
      "Iteration 2, loss = 0.62236762\n",
      "Iteration 3, loss = 0.44570094\n",
      "Iteration 4, loss = 0.30256657\n",
      "Iteration 5, loss = 0.22431673\n",
      "Iteration 6, loss = 0.17455883\n",
      "Iteration 7, loss = 0.14169894\n",
      "Iteration 8, loss = 0.11608851\n",
      "Iteration 9, loss = 0.09819927\n",
      "Iteration 10, loss = 0.08991280\n",
      "Iteration 11, loss = 0.08622183\n",
      "Iteration 12, loss = 0.08354546\n",
      "Iteration 13, loss = 0.08206702\n",
      "Iteration 14, loss = 0.08139388\n",
      "Iteration 15, loss = 0.08191729\n",
      "Iteration 16, loss = 0.08004866\n",
      "Iteration 17, loss = 0.07785579\n",
      "Iteration 18, loss = 0.07932246\n",
      "Iteration 19, loss = 0.07854181\n",
      "Iteration 20, loss = 0.08096869\n",
      "Iteration 21, loss = 0.07608846\n",
      "Iteration 22, loss = 0.07807805\n",
      "Iteration 23, loss = 0.07737410\n",
      "Iteration 24, loss = 0.07825016\n",
      "Iteration 25, loss = 0.07681095\n",
      "Iteration 26, loss = 0.07662739\n",
      "Iteration 27, loss = 0.07732100\n",
      "Iteration 28, loss = 0.07729130\n",
      "Iteration 29, loss = 0.07781927\n",
      "Iteration 30, loss = 0.07759858\n",
      "Iteration 31, loss = 0.07828681\n",
      "Iteration 32, loss = 0.07792202\n",
      "Training loss did not improve more than tol=0.000100 for 10 consecutive epochs. Stopping.\n"
     ]
    }
   ],
   "source": [
    "#Now let's use the training data (X_train, y_train) to predict our category.\n",
    "target_predicted = nn_mod1.fit(X_train, y_train).predict(X_test)"
   ]
  },
  {
   "cell_type": "code",
   "execution_count": 10,
   "metadata": {},
   "outputs": [],
   "source": [
    "#Lets check out what we got\n",
    "matrix = confusion_matrix(y_test, target_predicted)"
   ]
  },
  {
   "cell_type": "code",
   "execution_count": 11,
   "metadata": {},
   "outputs": [],
   "source": [
    "#Getting ready to show the confusion matrix\n",
    "class_names = ['Science and Technology', 'Sports', 'Video Games']\n",
    "dataframe = pd.DataFrame(matrix, columns=class_names, index=class_names)"
   ]
  },
  {
   "cell_type": "code",
   "execution_count": 12,
   "metadata": {},
   "outputs": [
    {
     "data": {
      "image/png": "[encoded data removed]",
      "text/plain": [
       "<Figure size 720x432 with 1 Axes>"
      ]
     },
     "metadata": {
      "needs_background": "light"
     },
     "output_type": "display_data"
    }
   ],
   "source": [
    "#And we can graph it. Not amazing but not bad\n",
    "plt.figure(figsize=(10,6))\n",
    "sns.heatmap(dataframe, annot=True, cbar=None, cmap='Blues', fmt='d')\n",
    "plt.title('Confusion Matrix')\n",
    "plt.ylabel('True Class')\n",
    "plt.xlabel('Predicted Class')\n",
    "plt.show()"
   ]
  },
  {
   "cell_type": "code",
   "execution_count": 13,
   "metadata": {},
   "outputs": [
    {
     "name": "stdout",
     "output_type": "stream",
     "text": [
      "                        precision    recall  f1-score   support\n",
      "\n",
      "Science and Technology       0.60      0.25      0.35        48\n",
      "                Sports       0.62      0.50      0.55       237\n",
      "           Video Games       0.81      0.90      0.85       715\n",
      "\n",
      "              accuracy                           0.77      1000\n",
      "             macro avg       0.68      0.55      0.59      1000\n",
      "          weighted avg       0.76      0.77      0.76      1000\n",
      "\n"
     ]
    }
   ],
   "source": [
    "#We didn't have many science and technology comments in our data, so it was hard to teach the model to catch it. \n",
    "#The video games section works out pretty well though. \n",
    "\n",
    "print(classification_report(y_test,\n",
    "                           target_predicted, \n",
    "                           target_names=class_names))"
   ]
  },
  {
   "cell_type": "markdown",
   "metadata": {},
   "source": [
    "# Model 2: Keras Model"
   ]
  },
  {
   "cell_type": "code",
   "execution_count": 14,
   "metadata": {},
   "outputs": [],
   "source": [
    "from keras.models import Sequential\n",
    "from keras.layers import Dense, Dropout, Flatten\n",
    "from sklearn.datasets import make_multilabel_classification"
   ]
  },
  {
   "cell_type": "code",
   "execution_count": 15,
   "metadata": {},
   "outputs": [
    {
     "name": "stdout",
     "output_type": "stream",
     "text": [
      "(5000, 3000) (5000, 3)\n"
     ]
    }
   ],
   "source": [
    "#Set up the variables we need, and make multilabel classification\n",
    "\n",
    "N_FEATURES = 3000\n",
    "N_CLASSES=3\n",
    "\n",
    "X, y = make_multilabel_classification(n_samples=5000, n_features=3000, n_classes=3, n_labels=3, random_state=1)\n",
    "# summarize dataset shape\n",
    "print(X.shape, y.shape)"
   ]
  },
  {
   "cell_type": "code",
   "execution_count": 16,
   "metadata": {},
   "outputs": [],
   "source": [
    "#Split into train and test sets\n",
    "X_train, X_test, y_train, y_test = train_test_split(X, y, test_size =0.2, random_state=11)"
   ]
  },
  {
   "cell_type": "code",
   "execution_count": 17,
   "metadata": {},
   "outputs": [],
   "source": [
    "#Make our model\n",
    "nn=Sequential()\n",
    "nn.add(Dense(500, activation='relu', input_shape=(N_FEATURES,)))\n",
    "nn.add(Dense(150, activation='relu'))\n",
    "nn.add(Dense(N_CLASSES, activation='sigmoid'))\n",
    "nn.compile(loss='binary_crossentropy', optimizer='adam', metrics=['accuracy'])"
   ]
  },
  {
   "cell_type": "code",
   "execution_count": 18,
   "metadata": {},
   "outputs": [
    {
     "name": "stdout",
     "output_type": "stream",
     "text": [
      "Epoch 1/200\n",
      "32/32 [==============================] - 1s 25ms/step - loss: 0.5382 - accuracy: 0.2438\n",
      "Epoch 2/200\n",
      "32/32 [==============================] - 1s 25ms/step - loss: 0.2910 - accuracy: 0.6285\n",
      "Epoch 3/200\n",
      "32/32 [==============================] - 1s 24ms/step - loss: 0.0993 - accuracy: 0.6285\n",
      "Epoch 4/200\n",
      "32/32 [==============================] - 1s 23ms/step - loss: 0.0188 - accuracy: 0.6380 0s - loss: 0.0191 - accuracy: 0.63\n",
      "Epoch 5/200\n",
      "32/32 [==============================] - 1s 23ms/step - loss: 0.0042 - accuracy: 0.6180\n",
      "Epoch 6/200\n",
      "32/32 [==============================] - 1s 25ms/step - loss: 0.0019 - accuracy: 0.5993\n",
      "Epoch 7/200\n",
      "32/32 [==============================] - 1s 24ms/step - loss: 0.0012 - accuracy: 0.5982\n",
      "Epoch 8/200\n",
      "32/32 [==============================] - 1s 27ms/step - loss: 8.3481e-04 - accuracy: 0.5895\n",
      "Epoch 9/200\n",
      "32/32 [==============================] - 1s 23ms/step - loss: 6.2727e-04 - accuracy: 0.5980 0s - loss: 6.2727e-04 - accuracy: 0.59\n",
      "Epoch 10/200\n",
      "32/32 [==============================] - 1s 23ms/step - loss: 4.8917e-04 - accuracy: 0.5845\n",
      "Epoch 11/200\n",
      "32/32 [==============================] - ETA: 0s - loss: 3.9365e-04 - accuracy: 0.58 - 1s 24ms/step - loss: 3.9393e-04 - accuracy: 0.5875\n",
      "Epoch 12/200\n",
      "32/32 [==============================] - 1s 24ms/step - loss: 3.2359e-04 - accuracy: 0.5863\n",
      "Epoch 13/200\n",
      "32/32 [==============================] - 1s 22ms/step - loss: 2.7084e-04 - accuracy: 0.5838\n",
      "Epoch 14/200\n",
      "32/32 [==============================] - 1s 24ms/step - loss: 2.3008e-04 - accuracy: 0.5820\n",
      "Epoch 15/200\n",
      "32/32 [==============================] - 1s 24ms/step - loss: 1.9808e-04 - accuracy: 0.5845\n",
      "Epoch 16/200\n",
      "32/32 [==============================] - 1s 23ms/step - loss: 1.7213e-04 - accuracy: 0.5780\n",
      "Epoch 17/200\n",
      "32/32 [==============================] - 1s 26ms/step - loss: 1.5109e-04 - accuracy: 0.5792\n",
      "Epoch 18/200\n",
      "32/32 [==============================] - 1s 27ms/step - loss: 1.3367e-04 - accuracy: 0.5810\n",
      "Epoch 19/200\n",
      "32/32 [==============================] - 1s 28ms/step - loss: 1.1902e-04 - accuracy: 0.5795\n",
      "Epoch 20/200\n",
      "32/32 [==============================] - 1s 26ms/step - loss: 1.0676e-04 - accuracy: 0.5780\n",
      "Epoch 21/200\n",
      "32/32 [==============================] - 1s 24ms/step - loss: 9.6217e-05 - accuracy: 0.5755 0s - loss: 1.0249e-0\n",
      "Epoch 22/200\n",
      "32/32 [==============================] - 1s 26ms/step - loss: 8.7099e-05 - accuracy: 0.5788 0s - loss: 8.7739e-05 - accu\n",
      "Epoch 23/200\n",
      "32/32 [==============================] - 1s 25ms/step - loss: 7.9182e-05 - accuracy: 0.5792\n",
      "Epoch 24/200\n",
      "32/32 [==============================] - 1s 30ms/step - loss: 7.2376e-05 - accuracy: 0.5753\n",
      "Epoch 25/200\n",
      "32/32 [==============================] - 1s 24ms/step - loss: 6.6307e-05 - accuracy: 0.5763\n",
      "Epoch 26/200\n",
      "32/32 [==============================] - 1s 25ms/step - loss: 6.1012e-05 - accuracy: 0.5748\n",
      "Epoch 27/200\n",
      "32/32 [==============================] - 1s 24ms/step - loss: 5.6320e-05 - accuracy: 0.5750\n",
      "Epoch 28/200\n",
      "32/32 [==============================] - 1s 23ms/step - loss: 5.2089e-05 - accuracy: 0.5745 0s - loss: 5.2654e-05 - accuracy: \n",
      "Epoch 29/200\n",
      "32/32 [==============================] - 1s 25ms/step - loss: 4.8354e-05 - accuracy: 0.5720\n",
      "Epoch 30/200\n",
      "32/32 [==============================] - 1s 25ms/step - loss: 4.4998e-05 - accuracy: 0.5702\n",
      "Epoch 31/200\n",
      "32/32 [==============================] - 1s 28ms/step - loss: 4.1957e-05 - accuracy: 0.5730\n",
      "Epoch 32/200\n",
      "32/32 [==============================] - 1s 36ms/step - loss: 3.9187e-05 - accuracy: 0.5715\n",
      "Epoch 33/200\n",
      "32/32 [==============================] - 1s 37ms/step - loss: 3.6692e-05 - accuracy: 0.5710\n",
      "Epoch 34/200\n",
      "32/32 [==============================] - 1s 41ms/step - loss: 3.4442e-05 - accuracy: 0.5713 0s - loss: 3.6047e-05 \n",
      "Epoch 35/200\n",
      "32/32 [==============================] - 1s 39ms/step - loss: 3.2353e-05 - accuracy: 0.5720\n",
      "Epoch 36/200\n",
      "32/32 [==============================] - 1s 40ms/step - loss: 3.0452e-05 - accuracy: 0.5715\n",
      "Epoch 37/200\n",
      "32/32 [==============================] - 1s 37ms/step - loss: 2.8707e-05 - accuracy: 0.5700\n",
      "Epoch 38/200\n",
      "32/32 [==============================] - 1s 27ms/step - loss: 2.7105e-05 - accuracy: 0.5713 0s - loss: 2.7650e\n",
      "Epoch 39/200\n",
      "32/32 [==============================] - 1s 23ms/step - loss: 2.5623e-05 - accuracy: 0.5707\n",
      "Epoch 40/200\n",
      "32/32 [==============================] - 1s 26ms/step - loss: 2.4270e-05 - accuracy: 0.5710\n",
      "Epoch 41/200\n",
      "32/32 [==============================] - 1s 29ms/step - loss: 2.2998e-05 - accuracy: 0.5702\n",
      "Epoch 42/200\n",
      "32/32 [==============================] - 1s 27ms/step - loss: 2.1817e-05 - accuracy: 0.5710 0s - loss: 2.1841e-05 - ac\n",
      "Epoch 43/200\n",
      "32/32 [==============================] - 1s 27ms/step - loss: 2.0725e-05 - accuracy: 0.5685\n",
      "Epoch 44/200\n",
      "32/32 [==============================] - 1s 23ms/step - loss: 1.9713e-05 - accuracy: 0.5673\n",
      "Epoch 45/200\n",
      "32/32 [==============================] - ETA: 0s - loss: 1.8791e-05 - accuracy: 0.56 - 1s 24ms/step - loss: 1.8770e-05 - accuracy: 0.5695\n",
      "Epoch 46/200\n",
      "32/32 [==============================] - 1s 23ms/step - loss: 1.7888e-05 - accuracy: 0.5702\n",
      "Epoch 47/200\n",
      "32/32 [==============================] - 1s 24ms/step - loss: 1.7057e-05 - accuracy: 0.5705 0s - loss: 1.7124e-05 - accuracy: \n",
      "Epoch 48/200\n",
      "32/32 [==============================] - 1s 27ms/step - loss: 1.6289e-05 - accuracy: 0.5695\n",
      "Epoch 49/200\n",
      "32/32 [==============================] - 1s 24ms/step - loss: 1.5567e-05 - accuracy: 0.5663\n",
      "Epoch 50/200\n",
      "32/32 [==============================] - 1s 25ms/step - loss: 1.4885e-05 - accuracy: 0.5667 0s - loss: 1.4773e-05 - accuracy: 0.55 - ETA: 0s - loss: 1.4722e-05 - accuracy: \n",
      "Epoch 51/200\n",
      "32/32 [==============================] - 1s 23ms/step - loss: 1.4246e-05 - accuracy: 0.5655\n",
      "Epoch 52/200\n",
      "32/32 [==============================] - 1s 24ms/step - loss: 1.3638e-05 - accuracy: 0.5648\n",
      "Epoch 53/200\n",
      "32/32 [==============================] - 1s 27ms/step - loss: 1.3072e-05 - accuracy: 0.5648\n",
      "Epoch 54/200\n",
      "32/32 [==============================] - 1s 26ms/step - loss: 1.2538e-05 - accuracy: 0.5660\n",
      "Epoch 55/200\n",
      "32/32 [==============================] - 1s 27ms/step - loss: 1.2032e-05 - accuracy: 0.5655 0s - loss: 1.230\n",
      "Epoch 56/200\n",
      "32/32 [==============================] - 1s 23ms/step - loss: 1.1554e-05 - accuracy: 0.5675\n",
      "Epoch 57/200\n",
      "32/32 [==============================] - 1s 28ms/step - loss: 1.1102e-05 - accuracy: 0.5630\n",
      "Epoch 58/200\n",
      "32/32 [==============================] - 1s 24ms/step - loss: 1.0675e-05 - accuracy: 0.5640\n",
      "Epoch 59/200\n",
      "32/32 [==============================] - 1s 25ms/step - loss: 1.0266e-05 - accuracy: 0.5648\n",
      "Epoch 60/200\n",
      "32/32 [==============================] - 1s 24ms/step - loss: 9.8777e-06 - accuracy: 0.5640\n",
      "Epoch 61/200\n",
      "32/32 [==============================] - 1s 25ms/step - loss: 9.5097e-06 - accuracy: 0.5635\n",
      "Epoch 62/200\n",
      "32/32 [==============================] - 1s 29ms/step - loss: 9.1631e-06 - accuracy: 0.5633 0s - loss: 9.1895e-0\n",
      "Epoch 63/200\n",
      "32/32 [==============================] - 1s 25ms/step - loss: 8.8332e-06 - accuracy: 0.5642\n",
      "Epoch 64/200\n",
      "32/32 [==============================] - 1s 24ms/step - loss: 8.5177e-06 - accuracy: 0.5633 0s - loss: 8.4993e-06 - accuracy: 0.56\n",
      "Epoch 65/200\n",
      "32/32 [==============================] - 1s 24ms/step - loss: 8.2181e-06 - accuracy: 0.5627\n",
      "Epoch 66/200\n",
      "32/32 [==============================] - 1s 24ms/step - loss: 7.9338e-06 - accuracy: 0.5642 0s - loss: 8.2298e-06 \n",
      "Epoch 67/200\n",
      "32/32 [==============================] - 1s 27ms/step - loss: 7.6590e-06 - accuracy: 0.5627\n",
      "Epoch 68/200\n",
      "32/32 [==============================] - 1s 25ms/step - loss: 7.3972e-06 - accuracy: 0.5627 0s - loss: 7.4771e-06 - accuracy\n",
      "Epoch 69/200\n",
      "32/32 [==============================] - 1s 23ms/step - loss: 7.1488e-06 - accuracy: 0.5625\n",
      "Epoch 70/200\n",
      "32/32 [==============================] - 1s 24ms/step - loss: 6.9102e-06 - accuracy: 0.5625\n",
      "Epoch 71/200\n",
      "32/32 [==============================] - 1s 26ms/step - loss: 6.6847e-06 - accuracy: 0.5615\n",
      "Epoch 72/200\n",
      "32/32 [==============================] - 1s 28ms/step - loss: 6.4686e-06 - accuracy: 0.5630\n",
      "Epoch 73/200\n",
      "32/32 [==============================] - 1s 26ms/step - loss: 6.2590e-06 - accuracy: 0.5620\n"
     ]
    },
    {
     "name": "stdout",
     "output_type": "stream",
     "text": [
      "Epoch 74/200\n",
      "32/32 [==============================] - 1s 28ms/step - loss: 6.0575e-06 - accuracy: 0.5623\n",
      "Epoch 75/200\n",
      "32/32 [==============================] - 1s 23ms/step - loss: 5.8666e-06 - accuracy: 0.5615\n",
      "Epoch 76/200\n",
      "32/32 [==============================] - 1s 25ms/step - loss: 5.6834e-06 - accuracy: 0.5623\n",
      "Epoch 77/200\n",
      "32/32 [==============================] - 1s 25ms/step - loss: 5.5064e-06 - accuracy: 0.5630\n",
      "Epoch 78/200\n",
      "32/32 [==============================] - 1s 25ms/step - loss: 5.3368e-06 - accuracy: 0.5633\n",
      "Epoch 79/200\n",
      "32/32 [==============================] - 1s 23ms/step - loss: 5.1748e-06 - accuracy: 0.5633\n",
      "Epoch 80/200\n",
      "32/32 [==============================] - 1s 24ms/step - loss: 5.0196e-06 - accuracy: 0.5627 0s - loss: 4.9528e-06 - accura\n",
      "Epoch 81/200\n",
      "32/32 [==============================] - 1s 26ms/step - loss: 4.8693e-06 - accuracy: 0.5625\n",
      "Epoch 82/200\n",
      "32/32 [==============================] - 1s 22ms/step - loss: 4.7248e-06 - accuracy: 0.5623\n",
      "Epoch 83/200\n",
      "32/32 [==============================] - 1s 22ms/step - loss: 4.5857e-06 - accuracy: 0.5625\n",
      "Epoch 84/200\n",
      "32/32 [==============================] - 1s 22ms/step - loss: 4.4519e-06 - accuracy: 0.5627\n",
      "Epoch 85/200\n",
      "32/32 [==============================] - 1s 23ms/step - loss: 4.3230e-06 - accuracy: 0.5623\n",
      "Epoch 86/200\n",
      "32/32 [==============================] - 1s 22ms/step - loss: 4.1991e-06 - accuracy: 0.5605 0s - loss: 4.1991e-06 - accuracy: 0.56\n",
      "Epoch 87/200\n",
      "32/32 [==============================] - 1s 22ms/step - loss: 4.0790e-06 - accuracy: 0.5600\n",
      "Epoch 88/200\n",
      "32/32 [==============================] - 1s 22ms/step - loss: 3.9642e-06 - accuracy: 0.5610\n",
      "Epoch 89/200\n",
      "32/32 [==============================] - 1s 24ms/step - loss: 3.8534e-06 - accuracy: 0.5617\n",
      "Epoch 90/200\n",
      "32/32 [==============================] - 1s 24ms/step - loss: 3.7460e-06 - accuracy: 0.5608\n",
      "Epoch 91/200\n",
      "32/32 [==============================] - 1s 24ms/step - loss: 3.6432e-06 - accuracy: 0.5602\n",
      "Epoch 92/200\n",
      "32/32 [==============================] - 1s 23ms/step - loss: 3.5431e-06 - accuracy: 0.5617 0s - loss: 3.5191e-06 - accuracy: 0.\n",
      "Epoch 93/200\n",
      "32/32 [==============================] - 1s 25ms/step - loss: 3.4471e-06 - accuracy: 0.5615\n",
      "Epoch 94/200\n",
      "32/32 [==============================] - 1s 24ms/step - loss: 3.3550e-06 - accuracy: 0.5612\n",
      "Epoch 95/200\n",
      "32/32 [==============================] - 1s 21ms/step - loss: 3.2647e-06 - accuracy: 0.5612\n",
      "Epoch 96/200\n",
      "32/32 [==============================] - 1s 22ms/step - loss: 3.1775e-06 - accuracy: 0.5612\n",
      "Epoch 97/200\n",
      "32/32 [==============================] - 1s 23ms/step - loss: 3.0935e-06 - accuracy: 0.5608\n",
      "Epoch 98/200\n",
      "32/32 [==============================] - 1s 23ms/step - loss: 3.0121e-06 - accuracy: 0.5612\n",
      "Epoch 99/200\n",
      "32/32 [==============================] - 1s 24ms/step - loss: 2.9335e-06 - accuracy: 0.5617 0s - loss: 2.9515e-06 - ac\n",
      "Epoch 100/200\n",
      "32/32 [==============================] - 1s 25ms/step - loss: 2.8575e-06 - accuracy: 0.5605\n",
      "Epoch 101/200\n",
      "32/32 [==============================] - 1s 37ms/step - loss: 2.7841e-06 - accuracy: 0.5610\n",
      "Epoch 102/200\n",
      "32/32 [==============================] - 1s 32ms/step - loss: 2.7128e-06 - accuracy: 0.5610\n",
      "Epoch 103/200\n",
      "32/32 [==============================] - 1s 32ms/step - loss: 2.6445e-06 - accuracy: 0.5590\n",
      "Epoch 104/200\n",
      "32/32 [==============================] - 1s 29ms/step - loss: 2.5776e-06 - accuracy: 0.5615\n",
      "Epoch 105/200\n",
      "32/32 [==============================] - 1s 36ms/step - loss: 2.5127e-06 - accuracy: 0.5612 0s - loss: 2.5192e-06 \n",
      "Epoch 106/200\n",
      "32/32 [==============================] - 1s 33ms/step - loss: 2.4498e-06 - accuracy: 0.5617\n",
      "Epoch 107/200\n",
      "32/32 [==============================] - 1s 29ms/step - loss: 2.3886e-06 - accuracy: 0.5615\n",
      "Epoch 108/200\n",
      "32/32 [==============================] - 1s 31ms/step - loss: 2.3296e-06 - accuracy: 0.5605\n",
      "Epoch 109/200\n",
      "32/32 [==============================] - 1s 35ms/step - loss: 2.2715e-06 - accuracy: 0.5592\n",
      "Epoch 110/200\n",
      "32/32 [==============================] - 1s 31ms/step - loss: 2.2159e-06 - accuracy: 0.5605\n",
      "Epoch 111/200\n",
      "32/32 [==============================] - 1s 28ms/step - loss: 2.1621e-06 - accuracy: 0.5600\n",
      "Epoch 112/200\n",
      "32/32 [==============================] - 1s 27ms/step - loss: 2.1093e-06 - accuracy: 0.5600\n",
      "Epoch 113/200\n",
      "32/32 [==============================] - 1s 22ms/step - loss: 2.0584e-06 - accuracy: 0.5600\n",
      "Epoch 114/200\n",
      "32/32 [==============================] - 1s 21ms/step - loss: 2.0089e-06 - accuracy: 0.5598 0s - loss: 2.0296e-06 - ac\n",
      "Epoch 115/200\n",
      "32/32 [==============================] - 1s 21ms/step - loss: 1.9607e-06 - accuracy: 0.5598\n",
      "Epoch 116/200\n",
      "32/32 [==============================] - 1s 28ms/step - loss: 1.9142e-06 - accuracy: 0.5600\n",
      "Epoch 117/200\n",
      "32/32 [==============================] - 1s 35ms/step - loss: 1.8690e-06 - accuracy: 0.5600\n",
      "Epoch 118/200\n",
      "32/32 [==============================] - 1s 31ms/step - loss: 1.8250e-06 - accuracy: 0.5592\n",
      "Epoch 119/200\n",
      "32/32 [==============================] - 1s 33ms/step - loss: 1.7824e-06 - accuracy: 0.5587\n",
      "Epoch 120/200\n",
      "32/32 [==============================] - 1s 26ms/step - loss: 1.7407e-06 - accuracy: 0.5583 0s - loss: 1.7429e-06 - accuracy\n",
      "Epoch 121/200\n",
      "32/32 [==============================] - 1s 26ms/step - loss: 1.7005e-06 - accuracy: 0.5598\n",
      "Epoch 122/200\n",
      "32/32 [==============================] - 1s 24ms/step - loss: 1.6610e-06 - accuracy: 0.5587\n",
      "Epoch 123/200\n",
      "32/32 [==============================] - 1s 24ms/step - loss: 1.6229e-06 - accuracy: 0.5590 0s - loss: 1.6352e-06 - accu\n",
      "Epoch 124/200\n",
      "32/32 [==============================] - 1s 27ms/step - loss: 1.5853e-06 - accuracy: 0.5587\n",
      "Epoch 125/200\n",
      "32/32 [==============================] - 1s 27ms/step - loss: 1.5491e-06 - accuracy: 0.5590 0s - loss: 1.5906e-06 - accuracy: 0. - ETA: 0s - loss: 1.613\n",
      "Epoch 126/200\n",
      "32/32 [==============================] - 1s 24ms/step - loss: 1.5138e-06 - accuracy: 0.5583\n",
      "Epoch 127/200\n",
      "32/32 [==============================] - 1s 25ms/step - loss: 1.4796e-06 - accuracy: 0.5595\n",
      "Epoch 128/200\n",
      "32/32 [==============================] - 1s 27ms/step - loss: 1.4461e-06 - accuracy: 0.5590\n",
      "Epoch 129/200\n",
      "32/32 [==============================] - 1s 24ms/step - loss: 1.4135e-06 - accuracy: 0.5592\n",
      "Epoch 130/200\n",
      "32/32 [==============================] - 1s 23ms/step - loss: 1.3821e-06 - accuracy: 0.5580\n",
      "Epoch 131/200\n",
      "32/32 [==============================] - 1s 23ms/step - loss: 1.3514e-06 - accuracy: 0.5580\n",
      "Epoch 132/200\n",
      "32/32 [==============================] - 1s 25ms/step - loss: 1.3212e-06 - accuracy: 0.5587 0s - loss: 1.3048e-06 - accuracy: \n",
      "Epoch 133/200\n",
      "32/32 [==============================] - 1s 24ms/step - loss: 1.2922e-06 - accuracy: 0.5585 0s - loss: 1.3324e-06 - accura\n",
      "Epoch 134/200\n",
      "32/32 [==============================] - 1s 24ms/step - loss: 1.2636e-06 - accuracy: 0.5583 0s - loss: 1.2946e-06 - \n",
      "Epoch 135/200\n",
      "32/32 [==============================] - 1s 23ms/step - loss: 1.2359e-06 - accuracy: 0.5583 0s - loss: 1.2359e-06 - accuracy: 0.55\n",
      "Epoch 136/200\n",
      "32/32 [==============================] - 1s 24ms/step - loss: 1.2091e-06 - accuracy: 0.5590\n",
      "Epoch 137/200\n",
      "32/32 [==============================] - 1s 22ms/step - loss: 1.1827e-06 - accuracy: 0.5575\n",
      "Epoch 138/200\n",
      "32/32 [==============================] - 1s 22ms/step - loss: 1.1569e-06 - accuracy: 0.5580\n",
      "Epoch 139/200\n",
      "32/32 [==============================] - 1s 21ms/step - loss: 1.1319e-06 - accuracy: 0.5583\n",
      "Epoch 140/200\n",
      "32/32 [==============================] - 1s 22ms/step - loss: 1.1076e-06 - accuracy: 0.5573\n",
      "Epoch 141/200\n",
      "32/32 [==============================] - 1s 23ms/step - loss: 1.0836e-06 - accuracy: 0.5570\n",
      "Epoch 142/200\n",
      "32/32 [==============================] - 1s 25ms/step - loss: 1.0603e-06 - accuracy: 0.5577 0s - loss: 1.0592e-06 - accuracy: 0.55\n",
      "Epoch 143/200\n",
      "32/32 [==============================] - 1s 23ms/step - loss: 1.0373e-06 - accuracy: 0.5577\n",
      "Epoch 144/200\n",
      "32/32 [==============================] - 1s 23ms/step - loss: 1.0153e-06 - accuracy: 0.5577\n",
      "Epoch 145/200\n",
      "32/32 [==============================] - 1s 24ms/step - loss: 9.9385e-07 - accuracy: 0.5575 0s - loss: 9.9461e-07 - accuracy: 0.\n",
      "Epoch 146/200\n",
      "32/32 [==============================] - 1s 23ms/step - loss: 9.7275e-07 - accuracy: 0.5577 0s - loss: 9.7460e-07 - accuracy: 0.\n",
      "Epoch 147/200\n",
      "32/32 [==============================] - 1s 25ms/step - loss: 9.5223e-07 - accuracy: 0.5577\n",
      "Epoch 148/200\n",
      "32/32 [==============================] - 1s 24ms/step - loss: 9.3220e-07 - accuracy: 0.5577\n",
      "Epoch 149/200\n",
      "32/32 [==============================] - 1s 21ms/step - loss: 9.1259e-07 - accuracy: 0.5580 0s - loss: 8.8567e-07 \n",
      "Epoch 150/200\n",
      "32/32 [==============================] - 1s 24ms/step - loss: 8.9352e-07 - accuracy: 0.5580 0s - loss: 8.7066e-07 - ac\n",
      "Epoch 151/200\n",
      "32/32 [==============================] - 1s 23ms/step - loss: 8.7504e-07 - accuracy: 0.5590\n",
      "Epoch 152/200\n",
      "32/32 [==============================] - 1s 23ms/step - loss: 8.5686e-07 - accuracy: 0.5573\n",
      "Epoch 153/200\n",
      "32/32 [==============================] - 1s 23ms/step - loss: 8.3917e-07 - accuracy: 0.5575\n",
      "Epoch 154/200\n",
      "32/32 [==============================] - 1s 23ms/step - loss: 8.2170e-07 - accuracy: 0.5575 0s - loss: 8.3891e-07 - accura - ETA: 0s - loss: 8.2115e-07 - accuracy: 0.55\n",
      "Epoch 155/200\n",
      "32/32 [==============================] - 1s 25ms/step - loss: 8.0469e-07 - accuracy: 0.5570\n",
      "Epoch 156/200\n",
      "32/32 [==============================] - 1s 23ms/step - loss: 7.8811e-07 - accuracy: 0.5570\n",
      "Epoch 157/200\n",
      "32/32 [==============================] - 1s 23ms/step - loss: 7.7198e-07 - accuracy: 0.5567\n",
      "Epoch 158/200\n",
      "32/32 [==============================] - 1s 24ms/step - loss: 7.5617e-07 - accuracy: 0.5577\n",
      "Epoch 159/200\n",
      "32/32 [==============================] - 1s 22ms/step - loss: 7.4076e-07 - accuracy: 0.5573 0s - loss: 7.3685e-07 - ac\n",
      "Epoch 160/200\n",
      "32/32 [==============================] - 1s 23ms/step - loss: 7.2568e-07 - accuracy: 0.5565\n",
      "Epoch 161/200\n",
      "32/32 [==============================] - 1s 22ms/step - loss: 7.1092e-07 - accuracy: 0.5567\n",
      "Epoch 162/200\n",
      "32/32 [==============================] - 1s 22ms/step - loss: 6.9653e-07 - accuracy: 0.5573\n",
      "Epoch 163/200\n",
      "32/32 [==============================] - 1s 26ms/step - loss: 6.8242e-07 - accuracy: 0.5573\n",
      "Epoch 164/200\n",
      "32/32 [==============================] - 1s 23ms/step - loss: 6.6850e-07 - accuracy: 0.5565\n",
      "Epoch 165/200\n",
      "32/32 [==============================] - 1s 23ms/step - loss: 6.5519e-07 - accuracy: 0.5558\n",
      "Epoch 166/200\n",
      "32/32 [==============================] - 1s 25ms/step - loss: 6.4208e-07 - accuracy: 0.5558 0s - loss: 6.3\n",
      "Epoch 167/200\n",
      "32/32 [==============================] - 1s 24ms/step - loss: 6.2936e-07 - accuracy: 0.5555\n",
      "Epoch 168/200\n",
      "32/32 [==============================] - 1s 26ms/step - loss: 6.1697e-07 - accuracy: 0.5567\n",
      "Epoch 169/200\n",
      "32/32 [==============================] - 1s 23ms/step - loss: 6.0461e-07 - accuracy: 0.5567\n",
      "Epoch 170/200\n",
      "32/32 [==============================] - 1s 25ms/step - loss: 5.9261e-07 - accuracy: 0.5573 0s - loss: 6.0224e-07 - \n",
      "Epoch 171/200\n",
      "32/32 [==============================] - 1s 23ms/step - loss: 5.8088e-07 - accuracy: 0.5567 0s - loss: 5.7529e-07 - accura\n",
      "Epoch 172/200\n",
      "32/32 [==============================] - 1s 23ms/step - loss: 5.6941e-07 - accuracy: 0.5558\n",
      "Epoch 173/200\n",
      "32/32 [==============================] - 1s 26ms/step - loss: 5.5819e-07 - accuracy: 0.5567\n",
      "Epoch 174/200\n",
      "32/32 [==============================] - 1s 23ms/step - loss: 5.4720e-07 - accuracy: 0.5565\n",
      "Epoch 175/200\n",
      "32/32 [==============================] - 1s 23ms/step - loss: 5.3650e-07 - accuracy: 0.5560\n",
      "Epoch 176/200\n",
      "32/32 [==============================] - 1s 23ms/step - loss: 5.2604e-07 - accuracy: 0.5573\n",
      "Epoch 177/200\n",
      "32/32 [==============================] - 1s 23ms/step - loss: 5.1578e-07 - accuracy: 0.5558\n",
      "Epoch 178/200\n",
      "32/32 [==============================] - 1s 24ms/step - loss: 5.0572e-07 - accuracy: 0.5560\n",
      "Epoch 179/200\n",
      "32/32 [==============================] - 1s 22ms/step - loss: 4.9586e-07 - accuracy: 0.5562\n",
      "Epoch 180/200\n",
      "32/32 [==============================] - 1s 22ms/step - loss: 4.8626e-07 - accuracy: 0.5558\n",
      "Epoch 181/200\n",
      "32/32 [==============================] - 1s 22ms/step - loss: 4.7676e-07 - accuracy: 0.5570\n",
      "Epoch 182/200\n",
      "32/32 [==============================] - 1s 22ms/step - loss: 4.6753e-07 - accuracy: 0.5565\n",
      "Epoch 183/200\n",
      "32/32 [==============================] - 1s 23ms/step - loss: 4.5854e-07 - accuracy: 0.5548\n",
      "Epoch 184/200\n",
      "32/32 [==============================] - 1s 26ms/step - loss: 4.4968e-07 - accuracy: 0.5545\n",
      "Epoch 185/200\n",
      "32/32 [==============================] - 1s 23ms/step - loss: 4.4103e-07 - accuracy: 0.5548\n",
      "Epoch 186/200\n",
      "32/32 [==============================] - 1s 24ms/step - loss: 4.3260e-07 - accuracy: 0.5560\n",
      "Epoch 187/200\n",
      "32/32 [==============================] - 1s 28ms/step - loss: 4.2434e-07 - accuracy: 0.5567\n",
      "Epoch 188/200\n",
      "32/32 [==============================] - 1s 27ms/step - loss: 4.1617e-07 - accuracy: 0.5552\n",
      "Epoch 189/200\n",
      "32/32 [==============================] - 1s 26ms/step - loss: 4.0822e-07 - accuracy: 0.5560\n",
      "Epoch 190/200\n",
      "32/32 [==============================] - 1s 25ms/step - loss: 4.0047e-07 - accuracy: 0.5550\n",
      "Epoch 191/200\n",
      "32/32 [==============================] - 1s 24ms/step - loss: 3.9294e-07 - accuracy: 0.5552\n",
      "Epoch 192/200\n",
      "32/32 [==============================] - 1s 23ms/step - loss: 3.8543e-07 - accuracy: 0.5543\n",
      "Epoch 193/200\n",
      "32/32 [==============================] - 1s 25ms/step - loss: 3.7822e-07 - accuracy: 0.5548 0s - loss: 3.8074e-07 - accuracy: \n",
      "Epoch 194/200\n",
      "32/32 [==============================] - 1s 23ms/step - loss: 3.7104e-07 - accuracy: 0.5548\n",
      "Epoch 195/200\n",
      "32/32 [==============================] - 1s 23ms/step - loss: 3.6410e-07 - accuracy: 0.5550\n",
      "Epoch 196/200\n",
      "32/32 [==============================] - 1s 24ms/step - loss: 3.5721e-07 - accuracy: 0.5545\n",
      "Epoch 197/200\n",
      "32/32 [==============================] - 1s 22ms/step - loss: 3.5051e-07 - accuracy: 0.5543\n",
      "Epoch 198/200\n",
      "32/32 [==============================] - 1s 24ms/step - loss: 3.4396e-07 - accuracy: 0.5543 0s - loss: 3.5170e-07 - accu\n",
      "Epoch 199/200\n",
      "32/32 [==============================] - 1s 23ms/step - loss: 3.3755e-07 - accuracy: 0.5545\n",
      "Epoch 200/200\n",
      "32/32 [==============================] - 1s 22ms/step - loss: 3.3130e-07 - accuracy: 0.5550\n"
     ]
    },
    {
     "data": {
      "text/plain": [
       "<tensorflow.python.keras.callbacks.History at 0x1558fae8cd0>"
      ]
     },
     "execution_count": 18,
     "metadata": {},
     "output_type": "execute_result"
    }
   ],
   "source": [
    "#Fit the model to the training data\n",
    "nn.fit(X_train, y_train, epochs=200, batch_size=128)"
   ]
  },
  {
   "cell_type": "code",
   "execution_count": 19,
   "metadata": {},
   "outputs": [],
   "source": [
    "#Make predictions on the test data\n",
    "predictions = nn.predict(X_test)"
   ]
  },
  {
   "cell_type": "code",
   "execution_count": 20,
   "metadata": {},
   "outputs": [],
   "source": [
    "#Round the numbers so we can compare\n",
    "predictions = predictions.round()"
   ]
  },
  {
   "cell_type": "code",
   "execution_count": 21,
   "metadata": {},
   "outputs": [
    {
     "name": "stdout",
     "output_type": "stream",
     "text": [
      "                        precision    recall  f1-score   support\n",
      "\n",
      "Science and Technology       0.86      0.94      0.90       787\n",
      "                Sports       0.86      0.97      0.91       824\n",
      "           Video Games       0.57      0.44      0.50       344\n",
      "\n",
      "             micro avg       0.82      0.86      0.84      1955\n",
      "             macro avg       0.76      0.78      0.77      1955\n",
      "          weighted avg       0.81      0.86      0.83      1955\n",
      "           samples avg       0.82      0.81      0.79      1955\n",
      "\n"
     ]
    },
    {
     "name": "stderr",
     "output_type": "stream",
     "text": [
      "C:\\Users\\David\\anaconda3\\envs\\Testing\\lib\\site-packages\\sklearn\\metrics\\_classification.py:1221: UndefinedMetricWarning: Precision and F-score are ill-defined and being set to 0.0 in samples with no predicted labels. Use `zero_division` parameter to control this behavior.\n",
      "  _warn_prf(average, modifier, msg_start, len(result))\n",
      "C:\\Users\\David\\anaconda3\\envs\\Testing\\lib\\site-packages\\sklearn\\metrics\\_classification.py:1221: UndefinedMetricWarning: Recall and F-score are ill-defined and being set to 0.0 in samples with no true labels. Use `zero_division` parameter to control this behavior.\n",
      "  _warn_prf(average, modifier, msg_start, len(result))\n"
     ]
    }
   ],
   "source": [
    "#Print the classification report. It has been giving me errors here, may need to start up the next section after \n",
    "#Running this\n",
    "print(classification_report(y_test,\n",
    "                           predictions, \n",
    "                           target_names=class_names))"
   ]
  },
  {
   "cell_type": "markdown",
   "metadata": {},
   "source": [
    "# Model #3: Images"
   ]
  },
  {
   "cell_type": "code",
   "execution_count": 22,
   "metadata": {},
   "outputs": [],
   "source": [
    "from keras.datasets import mnist\n",
    "from keras.models import Sequential\n",
    "from keras.layers import Dense, Dropout, Flatten\n",
    "from keras.layers.convolutional import Conv2D, MaxPooling2D\n",
    "from keras.utils import np_utils\n",
    "from keras import backend as K"
   ]
  },
  {
   "cell_type": "code",
   "execution_count": 23,
   "metadata": {},
   "outputs": [],
   "source": [
    "K.set_image_data_format('channels_last')"
   ]
  },
  {
   "cell_type": "code",
   "execution_count": 24,
   "metadata": {},
   "outputs": [],
   "source": [
    "np.random.seed(0)"
   ]
  },
  {
   "cell_type": "code",
   "execution_count": 25,
   "metadata": {},
   "outputs": [],
   "source": [
    "channels=1\n",
    "height=28\n",
    "width=28"
   ]
  },
  {
   "cell_type": "code",
   "execution_count": 26,
   "metadata": {},
   "outputs": [],
   "source": [
    "(data_train, target_train), (data_test, target_test) = mnist.load_data()"
   ]
  },
  {
   "cell_type": "code",
   "execution_count": 27,
   "metadata": {},
   "outputs": [],
   "source": [
    "data_train = data_train.reshape(data_train.shape[0], height, width, channels)"
   ]
  },
  {
   "cell_type": "code",
   "execution_count": 28,
   "metadata": {},
   "outputs": [],
   "source": [
    "data_test = data_test.reshape(data_test.shape[0], height, width, channels)"
   ]
  },
  {
   "cell_type": "code",
   "execution_count": 29,
   "metadata": {},
   "outputs": [],
   "source": [
    "features_train = data_train / 255\n",
    "features_test = data_test / 255"
   ]
  },
  {
   "cell_type": "code",
   "execution_count": 30,
   "metadata": {},
   "outputs": [
    {
     "data": {
      "text/plain": [
       "(10000, 28, 28, 1)"
      ]
     },
     "execution_count": 30,
     "metadata": {},
     "output_type": "execute_result"
    }
   ],
   "source": [
    "features_test.shape"
   ]
  },
  {
   "cell_type": "code",
   "execution_count": 31,
   "metadata": {},
   "outputs": [],
   "source": [
    "target_train = np_utils.to_categorical(target_train)\n",
    "target_test = np_utils.to_categorical(target_test)\n",
    "number_of_classes = target_test.shape[1]"
   ]
  },
  {
   "cell_type": "code",
   "execution_count": 32,
   "metadata": {},
   "outputs": [
    {
     "data": {
      "text/plain": [
       "(10000, 10)"
      ]
     },
     "execution_count": 32,
     "metadata": {},
     "output_type": "execute_result"
    }
   ],
   "source": [
    "target_test.shape"
   ]
  },
  {
   "cell_type": "code",
   "execution_count": 33,
   "metadata": {},
   "outputs": [],
   "source": [
    "#Build the neural network\n",
    "network = Sequential()\n",
    "\n",
    "#Add a convolutional layer with 64 filters, a 5x5 window and a ReLU activation function\n",
    "network.add(Conv2D(filters=64,\n",
    "                 kernel_size=(5,5),\n",
    "                 input_shape=(width, height, channels),\n",
    "                 activation='relu'))\n",
    "\n",
    "#Add a max pooling layer with 2x2 window\n",
    "network.add(MaxPooling2D(pool_size=(2,2)))\n",
    "\n",
    "#Add a dropout layer\n",
    "network.add(Dropout(0.5))\n",
    "\n",
    "#Add a layer to flatten input\n",
    "network.add(Flatten())\n",
    "\n",
    "#Add a fully connected layer with 128 units and ReLU activation function\n",
    "network.add(Dense(128, activation='relu'))\n",
    "\n",
    "#Add a dropout layer\n",
    "network.add(Dropout(0.5))\n",
    "\n",
    "#add a fully connected layer with softmax activation function\n",
    "network.add(Dense(number_of_classes, activation='softmax'))\n",
    "\n",
    "#compile the model\n",
    "network.compile(loss='categorical_crossentropy',\n",
    "               optimizer='rmsprop',\n",
    "               metrics=['accuracy'])\n",
    "\n"
   ]
  },
  {
   "cell_type": "code",
   "execution_count": 34,
   "metadata": {},
   "outputs": [
    {
     "name": "stdout",
     "output_type": "stream",
     "text": [
      "Epoch 1/2\n",
      "60/60 [==============================] - 64s 1s/step - loss: 0.5833 - accuracy: 0.8202\n",
      "Epoch 2/2\n",
      "60/60 [==============================] - 62s 1s/step - loss: 0.1893 - accuracy: 0.9444\n"
     ]
    },
    {
     "data": {
      "text/plain": [
       "<tensorflow.python.keras.callbacks.History at 0x1558dc6ea90>"
      ]
     },
     "execution_count": 34,
     "metadata": {},
     "output_type": "execute_result"
    }
   ],
   "source": [
    "#Train the neural network\n",
    "network.fit(features_train,\n",
    "           target_train,\n",
    "           epochs=2,\n",
    "           verbose=1,\n",
    "           batch_size=1000)"
   ]
  },
  {
   "cell_type": "code",
   "execution_count": 35,
   "metadata": {},
   "outputs": [
    {
     "data": {
      "text/plain": [
       "<matplotlib.image.AxesImage at 0x155945475b0>"
      ]
     },
     "execution_count": 35,
     "metadata": {},
     "output_type": "execute_result"
    },
    {
     "data": {
      "image/png": "[encoded data removed]",
      "text/plain": [
       "<Figure size 432x288 with 1 Axes>"
      ]
     },
     "metadata": {
      "needs_background": "light"
     },
     "output_type": "display_data"
    }
   ],
   "source": [
    "#Let's try to predict this image. We should get 4\n",
    "\n",
    "plt.imshow(features_test[4], cmap=plt.get_cmap('gray'))"
   ]
  },
  {
   "cell_type": "code",
   "execution_count": 36,
   "metadata": {},
   "outputs": [
    {
     "data": {
      "text/plain": [
       "(28, 28, 1)"
      ]
     },
     "execution_count": 36,
     "metadata": {},
     "output_type": "execute_result"
    }
   ],
   "source": [
    "#Lets get the image in the right dimensions for our model\n",
    "img = features_test[4]\n",
    "img.shape"
   ]
  },
  {
   "cell_type": "code",
   "execution_count": 37,
   "metadata": {},
   "outputs": [
    {
     "data": {
      "text/plain": [
       "(1, 28, 28, 1)"
      ]
     },
     "execution_count": 37,
     "metadata": {},
     "output_type": "execute_result"
    }
   ],
   "source": [
    "#Setting the dimensions to be right. It should be number of images, height, width, channels\n",
    "img = np.expand_dims(img,0)\n",
    "img.shape"
   ]
  },
  {
   "cell_type": "code",
   "execution_count": 38,
   "metadata": {},
   "outputs": [
    {
     "data": {
      "text/plain": [
       "array([[1.5135172e-05, 2.6792259e-05, 8.0592734e-05, 7.7359609e-06,\n",
       "        9.9648958e-01, 1.2645596e-05, 2.0100904e-04, 1.5404330e-04,\n",
       "        7.2383475e-05, 2.9400436e-03]], dtype=float32)"
      ]
     },
     "execution_count": 38,
     "metadata": {},
     "output_type": "execute_result"
    }
   ],
   "source": [
    "#Let's predict the number. All of them should be small except for the 5th (0,1,2,3 all before 4) which is close to 1\n",
    "network.predict(img)"
   ]
  },
  {
   "cell_type": "code",
   "execution_count": null,
   "metadata": {},
   "outputs": [],
   "source": []
  },
  {
   "cell_type": "code",
   "execution_count": 39,
   "metadata": {},
   "outputs": [
    {
     "data": {
      "text/plain": [
       "array([[1, 1, 1],\n",
       "       [1, 0, 0],\n",
       "       [1, 1, 1],\n",
       "       ...,\n",
       "       [1, 1, 0],\n",
       "       [1, 1, 0],\n",
       "       [1, 1, 1]])"
      ]
     },
     "execution_count": 39,
     "metadata": {},
     "output_type": "execute_result"
    }
   ],
   "source": []
  },
  {
   "cell_type": "code",
   "execution_count": null,
   "metadata": {},
   "outputs": [],
   "source": []
  }
 ],
 "metadata": {
  "kernelspec": {
   "display_name": "Python 3",
   "language": "python",
   "name": "python3"
  },
  "language_info": {
   "codemirror_mode": {
    "name": "ipython",
    "version": 3
   },
   "file_extension": ".py",
   "mimetype": "text/x-python",
   "name": "python",
   "nbconvert_exporter": "python",
   "pygments_lexer": "ipython3",
   "version": "3.8.3"
  }
 },
 "nbformat": 4,
 "nbformat_minor": 5
}
