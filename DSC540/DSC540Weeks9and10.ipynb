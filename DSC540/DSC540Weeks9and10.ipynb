{
 "cells": [
  {
   "cell_type": "markdown",
   "metadata": {},
   "source": [
    "# Activity 9: Top 100 ebooks' name extraction from Gutenberg.org\n",
    "\n",
    "## What is Project Gutenberg? - \n",
    "Project Gutenberg is a volunteer effort to digitize and archive cultural works, to \"encourage the creation and distribution of eBooks\". It was founded in 1971 by American writer Michael S. Hart and is the **oldest digital library.** This longest-established ebook project releases books that entered the public domain, and can be freely read or downloaded in various electronic formats.\n",
    "\n",
    "## What is this activity all about?\n",
    "* **This activity aims to scrape the url of the Project Gutenberg's Top 100 ebooks (yesterday's ranking) for identifying the ebook links. **\n",
    "* **It uses BeautifulSoup4 for parsing the HTML and regular expression code for identifying the Top 100 ebook file numbers.**\n",
    "* **You can use those book ID numbers to download the book into your local drive if you want**"
   ]
  },
  {
   "cell_type": "markdown",
   "metadata": {},
   "source": [
    "### Import necessary libraries including regex, and beautifulsoup"
   ]
  },
  {
   "cell_type": "code",
   "execution_count": 1,
   "metadata": {},
   "outputs": [],
   "source": [
    "import urllib.request, urllib.parse, urllib.error\n",
    "import requests\n",
    "from bs4 import BeautifulSoup\n",
    "import ssl\n",
    "import re"
   ]
  },
  {
   "cell_type": "markdown",
   "metadata": {},
   "source": [
    "### Ignore SSL errors (this code will be given)"
   ]
  },
  {
   "cell_type": "code",
   "execution_count": 2,
   "metadata": {},
   "outputs": [],
   "source": [
    "# Ignore SSL certificate errors\n",
    "ctx = ssl.create_default_context()\n",
    "ctx.check_hostname = False\n",
    "ctx.verify_mode = ssl.CERT_NONE"
   ]
  },
  {
   "cell_type": "markdown",
   "metadata": {},
   "source": [
    "### Read the HTML from the URL"
   ]
  },
  {
   "cell_type": "code",
   "execution_count": 3,
   "metadata": {},
   "outputs": [],
   "source": [
    "#Check to make sure we can get on the actual webpage\n",
    "url = 'https://www.gutenberg.org/browse/scores/top'\n",
    "response = requests.get(url)"
   ]
  },
  {
   "cell_type": "markdown",
   "metadata": {},
   "source": [
    "### Write a small function to check the status of web request"
   ]
  },
  {
   "cell_type": "code",
   "execution_count": 4,
   "metadata": {},
   "outputs": [],
   "source": [
    "#Return messages in case something is wrong and we don't want to give a long error. Failed is fine.\n",
    "def status_check(r):\n",
    "    if r.status_code==200:\n",
    "        print('Success!')\n",
    "        return 1\n",
    "    else:\n",
    "        print('Failed!')\n",
    "        return -1"
   ]
  },
  {
   "cell_type": "code",
   "execution_count": 5,
   "metadata": {},
   "outputs": [
    {
     "name": "stdout",
     "output_type": "stream",
     "text": [
      "Success!\n"
     ]
    },
    {
     "data": {
      "text/plain": [
       "1"
      ]
     },
     "execution_count": 5,
     "metadata": {},
     "output_type": "execute_result"
    }
   ],
   "source": [
    "#Run it\n",
    "status_check(response)"
   ]
  },
  {
   "cell_type": "markdown",
   "metadata": {},
   "source": [
    "### Decode the response and pass on to `BeautifulSoup` for HTML parsing"
   ]
  },
  {
   "cell_type": "code",
   "execution_count": 6,
   "metadata": {},
   "outputs": [],
   "source": [
    "contents = response.content.decode(response.encoding)"
   ]
  },
  {
   "cell_type": "code",
   "execution_count": 7,
   "metadata": {},
   "outputs": [],
   "source": [
    "soup = BeautifulSoup(contents, 'html.parser')"
   ]
  },
  {
   "cell_type": "markdown",
   "metadata": {},
   "source": [
    "### Find all the _href_ tags and store them in the list of links. Check how the list looks like - print first 30 elements"
   ]
  },
  {
   "cell_type": "code",
   "execution_count": 8,
   "metadata": {},
   "outputs": [],
   "source": [
    "links = []\n",
    "for link in soup.find_all('a'):\n",
    "    links.append(link.get('href'))"
   ]
  },
  {
   "cell_type": "code",
   "execution_count": 9,
   "metadata": {},
   "outputs": [
    {
     "data": {
      "text/plain": [
       "['/',\n",
       " '/about/',\n",
       " '/about/',\n",
       " '/policy/collection_development.html',\n",
       " '/about/contact_information.html',\n",
       " '/about/background/',\n",
       " '/policy/permission.html',\n",
       " '/policy/privacy_policy.html',\n",
       " '/policy/terms_of_use.html',\n",
       " '/ebooks/',\n",
       " '/ebooks/',\n",
       " '/ebooks/bookshelf/',\n",
       " '/browse/scores/top',\n",
       " '/ebooks/offline_catalogs.html',\n",
       " '/help/',\n",
       " '/help/',\n",
       " '/help/copyright.html',\n",
       " '/help/errata.html',\n",
       " '/help/file_formats.html',\n",
       " '/help/faq.html',\n",
       " '/policy/',\n",
       " '/help/public_domain_ebook_submission.html',\n",
       " '/help/submitting_your_own_work.html',\n",
       " '/help/mobile.html',\n",
       " '/attic/',\n",
       " '/donate/',\n",
       " '/donate/',\n",
       " '#books-last1',\n",
       " '#authors-last1',\n",
       " '#books-last7']"
      ]
     },
     "execution_count": 9,
     "metadata": {},
     "output_type": "execute_result"
    }
   ],
   "source": [
    "links[:30]"
   ]
  },
  {
   "cell_type": "markdown",
   "metadata": {},
   "source": [
    "### Use regular expression to find the numeric digits in these links. <br>These are the file number for the Top 100 books."
   ]
  },
  {
   "cell_type": "markdown",
   "metadata": {},
   "source": [
    "#### Initialize empty list to hold the file numbers"
   ]
  },
  {
   "cell_type": "code",
   "execution_count": 10,
   "metadata": {},
   "outputs": [],
   "source": [
    "booknum = []"
   ]
  },
  {
   "cell_type": "markdown",
   "metadata": {},
   "source": [
    "* Number 19 to 118 in the original list of links have the Top 100 ebooks' number. \n",
    "* Loop over appropriate range and use regex to find the numeric digits in the link (href) string.\n",
    "* Hint: Use `findall()` method"
   ]
  },
  {
   "cell_type": "code",
   "execution_count": 11,
   "metadata": {},
   "outputs": [],
   "source": [
    "for i in range(33,133):\n",
    "    link = links[i]\n",
    "    link = link.strip()\n",
    "    n=re.findall('[0-9]+',link)\n",
    "    if len(n)==1:\n",
    "        booknum.append(int(n[0]))"
   ]
  },
  {
   "cell_type": "markdown",
   "metadata": {},
   "source": [
    "#### Print the file numbers"
   ]
  },
  {
   "cell_type": "code",
   "execution_count": 12,
   "metadata": {},
   "outputs": [
    {
     "name": "stdout",
     "output_type": "stream",
     "text": [
      "[84, 1342, 1080, 11, 5200, 844, 98, 2542, 25344, 76, 64317, 2701, 1250, 1661, 1952, 174, 160, 1260, 23, 64585, 2852, 408, 43, 219, 345, 205, 1232, 16328, 1400, 46, 2814, 19942, 74, 16, 1497, 57775, 215, 2591, 55, 768, 2600, 3207, 4300, 120, 2554, 6133, 514, 203, 42108, 158, 45, 996, 3825, 244, 5740, 829, 140, 11030, 36, 58585, 64586, 64578, 1727, 15399, 135, 1001, 35, 1184, 3090, 6130, 13415, 20203, 64577, 3600, 2500, 1998, 113, 7370, 833, 161, 42324, 902, 147, 43453, 37134, 1064, 209, 25929, 779, 863, 4517, 148, 521, 236, 376, 1934, 10623, 375, 766, 730]\n"
     ]
    }
   ],
   "source": [
    "print(booknum)"
   ]
  },
  {
   "cell_type": "markdown",
   "metadata": {},
   "source": [
    "### How does the `soup` object's text look like? Use `.text()` method and print only first 2000 characters (i.e. do not print the whole thing, it is long).\n",
    "\n",
    "You will notice lot of empty spaces/blanks here and there. Ignore them. They are part of HTML page markup and its whimsical nature!"
   ]
  },
  {
   "cell_type": "code",
   "execution_count": 13,
   "metadata": {
    "scrolled": false
   },
   "outputs": [
    {
     "name": "stdout",
     "output_type": "stream",
     "text": [
      "\n",
      "\n",
      "\n",
      "\n",
      "Top 100 | Project Gutenberg\n",
      "\n",
      "\n",
      "\n",
      "\n",
      "\n",
      "\n",
      "\n",
      "\n",
      "\n",
      "\n",
      "\n",
      "\n",
      "\n",
      "\n",
      "\n",
      "\n",
      "\n",
      "\n",
      "\n",
      "\n",
      "\n",
      "\n",
      "\n",
      "\n",
      "\n",
      "\n",
      "\n",
      "Menu▾\n",
      "\n",
      "\n",
      "\n",
      "About\n",
      "          ▾\n",
      "\n",
      "▾\n",
      "\n",
      "\n",
      "About Project Gutenberg\n",
      "Collection Development\n",
      "Contact Us\n",
      "History & Philosophy\n",
      "Permissions & License\n",
      "Privacy Policy\n",
      "Terms of Use\n",
      "\n",
      "\n",
      "\n",
      "Search and Browse\n",
      "      \t  ▾\n",
      "\n",
      "▾\n",
      "\n",
      "\n",
      "Book Search\n",
      "Bookshelves\n",
      "Frequently Downloaded\n",
      "Offline Catalogs\n",
      "\n",
      "\n",
      "\n",
      "Help\n",
      "          ▾\n",
      "\n",
      "▾\n",
      "\n",
      "\n",
      "All help topics →\n",
      "Copyright Procedures\n",
      "Errata, Fixes and Bug Reports\n",
      "File Formats\n",
      "Frequently Asked Questions\n",
      "Policies →\n",
      "Public Domain eBook Submission\n",
      "Submitting Your Own Work\n",
      "Tablets, Phones and eReaders\n",
      "The Attic →\n",
      "\n",
      "\n",
      "Donate\n",
      "\n",
      "\n",
      "\n",
      "\n",
      "\n",
      "\n",
      "\n",
      "\n",
      "\n",
      "\n",
      "Donation\n",
      "\n",
      "\n",
      "\n",
      "\n",
      "\n",
      "\n",
      "\n",
      "Frequently Viewed or Downloaded\n",
      "These listings are based on the number of times each eBook gets downloaded.\n",
      "      Multiple downloads from the same Internet address on the same day count as one download, and addresses that download more than 100 eBooks in a day are considered robots and are not counted.\n",
      "\n",
      "Downloaded Books\n",
      "2021-02-18219823\n",
      "last 7 days1343588\n",
      "last 30 days5807284\n",
      "\n",
      "\n",
      "\n",
      "Top 100 EBooks yesterday\n",
      "Top 100 Authors yesterday\n",
      "Top 100 EBooks last 7 days\n",
      "Top 100 Authors last 7 days\n",
      "Top 100 EBooks last 30 days\n",
      "Top 100 Authors last 30 days\n",
      "\n",
      "\n",
      "Top 100 EBooks yesterday\n",
      "\n",
      "Frankenstein; Or, The Modern Prometheus by Mary Wollstonecraft Shelley (3770)\n",
      "Pride and Prejudice by Jane Austen (2314)\n",
      "A Modest Proposal by Jonathan Swift (1311)\n",
      "Alice's Adventures in Wonderland by Lewis Carroll (1138)\n",
      "Metamorphosis by Franz Kafka (1103)\n",
      "The Importance of Being Earnest: A Trivial Comedy for Serious People by Oscar Wilde (1100)\n",
      "A Tale of Two Cities by Charles Dickens (1066)\n",
      "Et dukkehjem. English by Henrik Ibsen (1022)\n",
      "The Scarlet Letter by Nathaniel Hawthorne (1009)\n",
      "Adventures of Huckleberry Finn by Mark Twain (980)\n",
      "The Great Gatsby by F. Scott  Fitzgerald (929)\n",
      "Moby Dick; Or, The Whale by Herman Melville (868)\n",
      "Anthem by Ayn Rand (868)\n",
      "The Adventures of Sherlock Holmes by Arthur Conan Doyle (845)\n",
      "The Yellow Wallpaper by Charlotte Perkins Gilman (786)\n",
      "The Picture of Dorian Gray by Oscar Wilde (784)\n",
      "The A\n"
     ]
    }
   ],
   "source": [
    "print(soup.text[:2000])"
   ]
  },
  {
   "cell_type": "markdown",
   "metadata": {},
   "source": [
    "### Search in the extracted text (using regular expression) from the `soup` object to find the names of top 100 Ebooks (Yesterday's rank)"
   ]
  },
  {
   "cell_type": "code",
   "execution_count": 14,
   "metadata": {},
   "outputs": [],
   "source": [
    "lst_titles_temp=[]"
   ]
  },
  {
   "cell_type": "markdown",
   "metadata": {},
   "source": [
    "#### Create a starting index. It should point at the text _\"Top 100 Ebooks yesterday\"_. Hint: Use `splitlines()` method of the `soup.text`. It splits the lines of the text of the `soup` object."
   ]
  },
  {
   "cell_type": "code",
   "execution_count": 15,
   "metadata": {},
   "outputs": [],
   "source": [
    "start_idx=soup.text.splitlines().index('Top 100 EBooks yesterday')"
   ]
  },
  {
   "cell_type": "markdown",
   "metadata": {},
   "source": [
    "#### Loop 1-100 to add the strings of next 100 lines to this temporary list. Hint: `splitlines()` method"
   ]
  },
  {
   "cell_type": "code",
   "execution_count": 16,
   "metadata": {},
   "outputs": [],
   "source": [
    "for i in range(100):\n",
    "    lst_titles_temp.append(soup.text.splitlines()[start_idx+2+i])"
   ]
  },
  {
   "cell_type": "markdown",
   "metadata": {},
   "source": [
    "#### Use regular expression to extract only text from the name strings and append to an empty list\n",
    "* Hint: Use `match` and `span` to find indices and use them"
   ]
  },
  {
   "cell_type": "code",
   "execution_count": 17,
   "metadata": {},
   "outputs": [],
   "source": [
    "lst_titles=[]\n",
    "for i in range(100):\n",
    "    id1,id2=re.match(\"^[3a-zA-ZÀ-ÿ-',:;.— ]*\",lst_titles_temp[i]).span()\n",
    "    lst_titles.append(lst_titles_temp[i][id1:id2])"
   ]
  },
  {
   "cell_type": "markdown",
   "metadata": {},
   "source": [
    "#### Print the list of titles"
   ]
  },
  {
   "cell_type": "code",
   "execution_count": 18,
   "metadata": {},
   "outputs": [
    {
     "name": "stdout",
     "output_type": "stream",
     "text": [
      "Frankenstein; Or, The Modern Prometheus by Mary Wollstonecraft Shelley \n",
      "Pride and Prejudice by Jane Austen \n",
      "A Modest Proposal by Jonathan Swift \n",
      "Alice's Adventures in Wonderland by Lewis Carroll \n",
      "Metamorphosis by Franz Kafka \n",
      "The Importance of Being Earnest: A Trivial Comedy for Serious People by Oscar Wilde \n",
      "A Tale of Two Cities by Charles Dickens \n",
      "Et dukkehjem. English by Henrik Ibsen \n",
      "The Scarlet Letter by Nathaniel Hawthorne \n",
      "Adventures of Huckleberry Finn by Mark Twain \n",
      "The Great Gatsby by F. Scott  Fitzgerald \n",
      "Moby Dick; Or, The Whale by Herman Melville \n",
      "Anthem by Ayn Rand \n",
      "The Adventures of Sherlock Holmes by Arthur Conan Doyle \n",
      "The Yellow Wallpaper by Charlotte Perkins Gilman \n",
      "The Picture of Dorian Gray by Oscar Wilde \n",
      "The Awakening, and Selected Short Stories by Kate Chopin \n",
      "Jane Eyre: An Autobiography by Charlotte Brontë \n",
      "Narrative of the Life of Frederick Douglass, an American Slave by Frederick Douglass \n",
      "The Trap by Dorothy M.  Richardson \n",
      "The Hound of the Baskervilles by Arthur Conan Doyle \n",
      "The Souls of Black Folk by W. E. B.  Du Bois \n",
      "The Strange Case of Dr. Jekyll and Mr. Hyde by Robert Louis Stevenson \n",
      "Heart of Darkness by Joseph Conrad \n",
      "Dracula by Bram Stoker \n",
      "Walden, and On The Duty Of Civil Disobedience by Henry David Thoreau \n",
      "Il Principe. English by Niccolò Machiavelli \n",
      "Beowulf: An Anglo-Saxon Epic Poem \n",
      "Great Expectations by Charles Dickens \n",
      "A Christmas Carol in Prose; Being a Ghost Story of Christmas by Charles Dickens \n",
      "Dubliners by James Joyce \n",
      "Candide by Voltaire \n",
      "The Adventures of Tom Sawyer, Complete by Mark Twain \n",
      "Peter Pan by J. M.  Barrie \n",
      "The Republic by Plato \n",
      "Le jardin des supplices by Octave Mirbeau \n",
      "The Call of the Wild by Jack London \n",
      "Grimms' Fairy Tales by Jacob Grimm and Wilhelm Grimm \n",
      "The Wonderful Wizard of Oz by L. Frank  Baum \n",
      "Wuthering Heights by Emily Brontë \n",
      "War and Peace by graf Leo Tolstoy \n",
      "Leviathan by Thomas Hobbes \n",
      "Ulysses by James Joyce \n",
      "Treasure Island by Robert Louis Stevenson \n",
      "Prestuplenie i nakazanie. English by Fyodor Dostoyevsky \n",
      "Arsène Lupin, gentleman-cambrioleur. English by Maurice Leblanc \n",
      "Little Women by Louisa May Alcott \n",
      "Uncle Tom's Cabin by Harriet Beecher Stowe \n",
      "The Slang Dictionary: Etymological, Historical and Andecdotal by John Camden Hotten \n",
      "Emma by Jane Austen \n",
      "Anne of Green Gables by L. M.  Montgomery \n",
      "Don Quixote by Miguel de Cervantes Saavedra \n",
      "Pygmalion by Bernard Shaw \n",
      "A Study in Scarlet by Arthur Conan Doyle \n",
      "Tractatus Logico-Philosophicus by Ludwig Wittgenstein \n",
      "Gulliver's Travels into Several Remote Nations of the World by Jonathan Swift \n",
      "The Jungle by Upton Sinclair \n",
      "Incidents in the Life of a Slave Girl, Written by Herself by Harriet A.  Jacobs \n",
      "The War of the Worlds by H. G.  Wells \n",
      "The Prophet by Kahlil Gibran \n",
      "The Jay Bird Who Went Tame by John Breck \n",
      "Magic Shadows by Martin Quigley \n",
      "The Odyssey by Homer \n",
      "The Interesting Narrative of the Life of Olaudah Equiano, Or Gustavus Vassa, The African by Equiano \n",
      "Les Misérables by Victor Hugo \n",
      "Divine Comedy, Longfellow's Translation, Hell by Dante Alighieri \n",
      "The Time Machine by H. G.  Wells \n",
      "The Count of Monte Cristo, Illustrated by Alexandre Dumas \n",
      "Complete Original Short Stories of Guy De Maupassant by Guy de Maupassant \n",
      "The Iliad by Homer \n",
      "The Lady with the Dog and Other Stories by Anton Pavlovich Chekhov \n",
      "Autobiography of Benjamin Franklin by Benjamin Franklin \n",
      "The New Astronomy by S. P.  Langley \n",
      "Essays of Michel de Montaigne — Complete by Michel de Montaigne \n",
      "Siddhartha by Hermann Hesse \n",
      "Also sprach Zarathustra. English by Friedrich Wilhelm Nietzsche \n",
      "The Secret Garden by Frances Hodgson Burnett \n",
      "Second Treatise of Government by John Locke \n",
      "The Theory of the Leisure Class by Thorstein Veblen \n",
      "Sense and Sensibility by Jane Austen \n",
      "Frankenstein; Or, The Modern Prometheus by Mary Wollstonecraft Shelley \n",
      "The Happy Prince, and Other Tales by Oscar Wilde \n",
      "Common Sense by Thomas Paine \n",
      "A Pickle for the Knowing Ones by Timothy Dexter \n",
      "The Elements of Style by William Strunk \n",
      "The Masque of the Red Death by Edgar Allan Poe \n",
      "The Turn of the Screw by Henry James \n",
      "Daemonologie. by King of England James I \n",
      "The Tragical History of Doctor Faustus by Christopher Marlowe \n",
      "The Mysterious Affair at Styles by Agatha Christie \n",
      "Ethan Frome by Edith Wharton \n",
      "The Autobiography of Benjamin Franklin by Benjamin Franklin \n"
     ]
    }
   ],
   "source": [
    "for l in lst_titles[8:]:\n",
    "    print(l)"
   ]
  },
  {
   "cell_type": "markdown",
   "metadata": {},
   "source": [
    "**Explanation:** Is there an easy way to include all the punctuation that will appear here? I added a couple more that the book didn't include so we could get more of the titles of the books before they were cutoff. It was a real pain to get ' to appear but I got it. The only real problem I see is in stuff like \"The Convict Ship, Volume 3\" which should include more, but is in parenthesis, and if we include parenthesis we get the end of the lines which we don't want. It is mostly done and complete but basically any line that doesn't include \"by\" cut off at some point. Also the set up for this coding was from the assignment links for this week and just had fill in the blank sections that I did. "
   ]
  },
  {
   "cell_type": "markdown",
   "metadata": {},
   "source": [
    "# Activity 10: Building Your Own Database by Reading an API"
   ]
  },
  {
   "cell_type": "code",
   "execution_count": 19,
   "metadata": {},
   "outputs": [],
   "source": [
    "#Step 1: Import modules we need.\n",
    "import urllib.request, urllib.parse, urllib.error\n",
    "import json"
   ]
  },
  {
   "cell_type": "code",
   "execution_count": 20,
   "metadata": {},
   "outputs": [],
   "source": [
    "#Step 2: Open JSON file with API key. Set variable to be the key so we can use it.\n",
    "\n",
    "with open('key.json') as f:\n",
    "    keys = json.load(f)\n",
    "    omdbapi = keys['API_Key']"
   ]
  },
  {
   "cell_type": "code",
   "execution_count": 21,
   "metadata": {},
   "outputs": [],
   "source": [
    "#We need to make the URL. So we will do this in 3 parts. For each link of movies in the API, it looks something like\n",
    "#This: http://www.omdbapi.com/?t=Titanic&apikey=29797c10. It consists of the beginning that is there in every link,\n",
    "#t=(Movie title) and then an apikey=(API Key). So lets build the link and customize it so we can change the link for \n",
    "#Whatever movie we want.\n",
    "\n",
    "#Here is the first part. This never changes\n",
    "\n",
    "serviceurl = 'http://www.omdbapi.com/?'"
   ]
  },
  {
   "cell_type": "code",
   "execution_count": 22,
   "metadata": {},
   "outputs": [],
   "source": [
    "#Let's set up the end of the URL which changes from person to person but uses our API Key which is constant. We \n",
    "#have the key saved under omdbapi from above.\n",
    "\n",
    "apikey = '&apikey='+omdbapi"
   ]
  },
  {
   "cell_type": "code",
   "execution_count": 23,
   "metadata": {},
   "outputs": [
    {
     "name": "stdout",
     "output_type": "stream",
     "text": [
      "Beginning of URL:  http://www.omdbapi.com/?\n",
      "End of URL:  &apikey=29797c10\n"
     ]
    }
   ],
   "source": [
    "#Let's check that these are done correctly. We will combine them all when we make the movie section.\n",
    "\n",
    "print('Beginning of URL: ', serviceurl)\n",
    "print('End of URL: ', apikey)"
   ]
  },
  {
   "cell_type": "code",
   "execution_count": 24,
   "metadata": {},
   "outputs": [],
   "source": [
    "#Here we will print out the list of things we want to collect from the API. We will then print the values associated\n",
    "#With these as long as they are in the API.\n",
    "\n",
    "def print_json(json_data):\n",
    "    list_keys=['Title', 'Year', 'Rated', 'Released', 'Runtime', 'Genre', 'Director', 'Writer', 'Actors',\n",
    "              'Plot', 'Language', 'Country', 'Awards', 'Ratings', 'Metascore', 'imdbRating', 'imdbVotes', 'imdbID']\n",
    "    print('-'*50)\n",
    "    for k in list_keys:\n",
    "        if k in list(json_data.keys()):\n",
    "            print(f'{k}: {json_data[k]}')\n",
    "    print('-'*50)"
   ]
  },
  {
   "cell_type": "code",
   "execution_count": 25,
   "metadata": {},
   "outputs": [],
   "source": [
    "#And this will trake the link to the image of the poster, which is saved with the key 'Poster'. It will save the file\n",
    "#Associated with the poster, and if we don't already have it saved, will save it to our computer. If we already have \n",
    "#Poster saved then it skips all this.\n",
    "\n",
    "def save_poster(json_data):\n",
    "    import os\n",
    "    title = json_data['Title']\n",
    "    poster_url = json_data['Poster']\n",
    "    poster_file_extension = poster_url.split('.')[-1]\n",
    "    poster_data = urllib.request.urlopen(poster_url).read()\n",
    "    \n",
    "    savelocation = os.getcwd()+'\\\\'+'Posters'+'\\\\'\n",
    "    if not os.path.isdir(savelocation):\n",
    "        os.mkdir(savelocation)\n",
    "        \n",
    "    filename=savelocation+str(title)+'.'+poster_file_extension\n",
    "    f=open(filename, 'wb')\n",
    "    f.write(poster_data)\n",
    "    f.close()"
   ]
  },
  {
   "cell_type": "code",
   "execution_count": 26,
   "metadata": {},
   "outputs": [],
   "source": [
    "#This is going to finally compile our complete URL. We have the beginning saved as serviceurl and the end saved as\n",
    "#apikey. Now all we are missing is the title of the movie, which we can set here with (title). Then we set up a waiting \n",
    "#message, and print out the keys and values that we set earlier. We also include a way to catch errors in case\n",
    "#the movie doesn't exist.\n",
    "\n",
    "def search_movie(title):\n",
    "    try:\n",
    "        url=serviceurl + urllib.parse.urlencode({'t':str(title)})+apikey\n",
    "        print(f'Retrieving the data of \"{title}\" now...')\n",
    "        print(url)\n",
    "        uh=urllib.request.urlopen(url)\n",
    "        data=uh.read()\n",
    "        json_data=json.loads(data)\n",
    "        \n",
    "        if json_data['Response']=='True':\n",
    "            print_json(json_data)\n",
    "            if json_data['Poster']!='N/A':\n",
    "                save_poster(json_data)\n",
    "        else:\n",
    "            print('Error encountered: ', json_data['Error'])\n",
    "            \n",
    "    except urllib.error.URLError as e:\n",
    "        print(f'ERROR: {e.reason}')"
   ]
  },
  {
   "cell_type": "code",
   "execution_count": 27,
   "metadata": {},
   "outputs": [
    {
     "name": "stdout",
     "output_type": "stream",
     "text": [
      "Retrieving the data of \"Titanic\" now...\n",
      "http://www.omdbapi.com/?t=Titanic&apikey=29797c10\n",
      "--------------------------------------------------\n",
      "Title: Titanic\n",
      "Year: 1997\n",
      "Rated: PG-13\n",
      "Released: 19 Dec 1997\n",
      "Runtime: 194 min\n",
      "Genre: Drama, Romance\n",
      "Director: James Cameron\n",
      "Writer: James Cameron\n",
      "Actors: Leonardo DiCaprio, Kate Winslet, Billy Zane, Kathy Bates\n",
      "Plot: A seventeen-year-old aristocrat falls in love with a kind but poor artist aboard the luxurious, ill-fated R.M.S. Titanic.\n",
      "Language: English, Swedish, Italian, French\n",
      "Country: USA, Mexico\n",
      "Awards: Won 11 Oscars. Another 112 wins & 83 nominations.\n",
      "Ratings: [{'Source': 'Internet Movie Database', 'Value': '7.8/10'}, {'Source': 'Rotten Tomatoes', 'Value': '89%'}, {'Source': 'Metacritic', 'Value': '75/100'}]\n",
      "Metascore: 75\n",
      "imdbRating: 7.8\n",
      "imdbVotes: 1,048,704\n",
      "imdbID: tt0120338\n",
      "--------------------------------------------------\n"
     ]
    }
   ],
   "source": [
    "#Let's see how this goes\n",
    "\n",
    "search_movie('Titanic')"
   ]
  },
  {
   "cell_type": "code",
   "execution_count": 28,
   "metadata": {},
   "outputs": [
    {
     "name": "stdout",
     "output_type": "stream",
     "text": [
      "Retrieving the data of \"The Truman Show\" now...\n",
      "http://www.omdbapi.com/?t=The+Truman+Show&apikey=29797c10\n",
      "--------------------------------------------------\n",
      "Title: The Truman Show\n",
      "Year: 1998\n",
      "Rated: PG\n",
      "Released: 05 Jun 1998\n",
      "Runtime: 103 min\n",
      "Genre: Comedy, Drama\n",
      "Director: Peter Weir\n",
      "Writer: Andrew Niccol\n",
      "Actors: Jim Carrey, Laura Linney, Noah Emmerich, Natascha McElhone\n",
      "Plot: An insurance salesman discovers his whole life is actually a reality TV show.\n",
      "Language: English\n",
      "Country: USA\n",
      "Awards: Nominated for 3 Oscars. Another 40 wins & 66 nominations.\n",
      "Ratings: [{'Source': 'Internet Movie Database', 'Value': '8.1/10'}, {'Source': 'Rotten Tomatoes', 'Value': '95%'}, {'Source': 'Metacritic', 'Value': '90/100'}]\n",
      "Metascore: 90\n",
      "imdbRating: 8.1\n",
      "imdbVotes: 941,803\n",
      "imdbID: tt0120382\n",
      "--------------------------------------------------\n"
     ]
    }
   ],
   "source": [
    "#And lets try it again with a multiple word movie. Also a good one.\n",
    "\n",
    "search_movie('The Truman Show')"
   ]
  },
  {
   "cell_type": "code",
   "execution_count": 29,
   "metadata": {},
   "outputs": [
    {
     "name": "stdout",
     "output_type": "stream",
     "text": [
      "Retrieving the data of \"Random_Error\" now...\n",
      "http://www.omdbapi.com/?t=Random_Error&apikey=29797c10\n",
      "Error encountered:  Movie not found!\n"
     ]
    }
   ],
   "source": [
    "#And our errors?\n",
    "\n",
    "search_movie('Random_Error')"
   ]
  },
  {
   "cell_type": "markdown",
   "metadata": {},
   "source": [
    "# Connecting to the Twitter API"
   ]
  },
  {
   "cell_type": "code",
   "execution_count": 30,
   "metadata": {},
   "outputs": [],
   "source": [
    "import twitter"
   ]
  },
  {
   "cell_type": "code",
   "execution_count": 31,
   "metadata": {},
   "outputs": [],
   "source": [
    "api = twitter.Api(consumer_key='QV7VGxqvH6X4Uf4j8tJM66rB7',\n",
    "  consumer_secret='h9GflpIrWzbUBNpqhh9ApKKpnO75JAwds03PVyjeGg7GJV29GO',\n",
    "    access_token_key='1362131036918849537-FZU5FIsI9dWu4whJsfihMVpLJoquXn',\n",
    "    access_token_secret='Df6WVBdc7eTp91g6RGLj1T4WdvBnPYYH5sX9c1b3qs0gO')"
   ]
  },
  {
   "cell_type": "code",
   "execution_count": 32,
   "metadata": {},
   "outputs": [
    {
     "name": "stdout",
     "output_type": "stream",
     "text": [
      "{\"created_at\": \"Wed Feb 17 20:05:38 +0000 2021\", \"default_profile\": true, \"description\": \"For class\", \"id\": 1362131036918849537, \"id_str\": \"1362131036918849537\", \"name\": \"David Lattimer\", \"profile_background_color\": \"F5F8FA\", \"profile_image_url\": \"http://pbs.twimg.com/profile_images/1362131397817884677/9nP_GMb3_normal.jpg\", \"profile_image_url_https\": \"https://pbs.twimg.com/profile_images/1362131397817884677/9nP_GMb3_normal.jpg\", \"profile_link_color\": \"1DA1F2\", \"profile_sidebar_border_color\": \"C0DEED\", \"profile_sidebar_fill_color\": \"DDEEF6\", \"profile_text_color\": \"333333\", \"profile_use_background_image\": true, \"screen_name\": \"DavidLattimer2\"}\n"
     ]
    }
   ],
   "source": [
    "print(api.VerifyCredentials())"
   ]
  },
  {
   "cell_type": "code",
   "execution_count": 33,
   "metadata": {},
   "outputs": [
    {
     "data": {
      "text/plain": [
       "[Status(ID=1362600676174557186, ScreenName=elonmusk, Created=Fri Feb 19 03:11:31 +0000 2021, Text='@business To be clear, I am *not* an investor, I am an engineer. I don’t even own any publicly traded stock besides… https://t.co/OxZLHvxCVR'),\n",
       " Status(ID=1362536005060894720, ScreenName=theRealKiyosaki, Created=Thu Feb 18 22:54:32 +0000 2021, Text='Sec Treasury Yellen just said on CNBC Bitcoin is used in criminal activity. Give me a break. And the US dollar isn’… https://t.co/OfUBVNjAMQ'),\n",
       " Status(ID=1362789835770126336, ScreenName=APompliano, Created=Fri Feb 19 15:43:10 +0000 2021, Text='BREAKING: Bitcoin just reached a $1 trillion market cap for the first time in history.'),\n",
       " Status(ID=1362893678965116929, ScreenName=MichaelaBRosen, Created=Fri Feb 19 22:35:49 +0000 2021, Text='RT @Bitcoin: $55,000.\\n\\nAnd the bull began his run. https://t.co/wazSjQvsUT'),\n",
       " Status(ID=1362893678545670145, ScreenName=digital_mine_, Created=Fri Feb 19 22:35:48 +0000 2021, Text='RT @Wonders0331: @tyler What is the best app to buy Bitcoin? Thanks 🙏🏼 in advance'),\n",
       " Status(ID=1362893674435268610, ScreenName=ColectorSatoshi, Created=Fri Feb 19 22:35:47 +0000 2021, Text='@binance Patience?\\n U stop the highway to 🌘 of #Bitcoin #Șatoshi, \\nU need to 🎁 Șatosi buyers! ☝️'),\n",
       " Status(ID=1362893673235628039, ScreenName=agreenie8, Created=Fri Feb 19 22:35:47 +0000 2021, Text='Still have a buy order for #Bitcoin at 23k https://t.co/x8teOsJo80'),\n",
       " Status(ID=1362893673210462216, ScreenName=BoyGatorade, Created=Fri Feb 19 22:35:47 +0000 2021, Text='RT @DocumentingBTC: MicroStrategy now has $4 billion of #Bitcoin'),\n",
       " Status(ID=1362893673093070849, ScreenName=jorcrypto1, Created=Fri Feb 19 22:35:47 +0000 2021, Text='RT @binance: 1,000,000,000,000 market cap.\\n\\n#Bitcoin https://t.co/QAx7lj5b9i'),\n",
       " Status(ID=1362893672501673988, ScreenName=criptoluis, Created=Fri Feb 19 22:35:47 +0000 2021, Text='En el programa de aprendizaje sobre #Bitcoin de @ChaincodeLabs hay 11 latinos entre los 15 participantes.\\n\\nGracias… https://t.co/0Xyxmzn8yQ')]"
      ]
     },
     "execution_count": 33,
     "metadata": {},
     "output_type": "execute_result"
    }
   ],
   "source": [
    "api.GetSearch(term='Bitcoin', since=2021-2-10, count=10)"
   ]
  },
  {
   "cell_type": "code",
   "execution_count": 34,
   "metadata": {},
   "outputs": [
    {
     "data": {
      "text/plain": [
       "[Status(ID=1362762385174405120, ScreenName=RobinSchwebach, Created=Fri Feb 19 13:54:06 +0000 2021, Text=\"RT @DSUAthletics: (17)Women's Basketball - Won 86-75 over Bellevue University - 18TH STRAIGHT WIN and completed a perfect 14-0 NSAA record!\"),\n",
       " Status(ID=1362657044084367360, ScreenName=Dallas_Fernau, Created=Fri Feb 19 06:55:30 +0000 2021, Text=\"RT @DSUAthletics: (17)Women's Basketball - Won 86-75 over Bellevue University - 18TH STRAIGHT WIN and completed a perfect 14-0 NSAA record!\"),\n",
       " Status(ID=1362656972424716290, ScreenName=TAAslesen, Created=Fri Feb 19 06:55:13 +0000 2021, Text=\"RT @DSUAthletics: (17)Women's Basketball - Won 86-75 over Bellevue University - 18TH STRAIGHT WIN and completed a perfect 14-0 NSAA record!\"),\n",
       " Status(ID=1362638358640435200, ScreenName=HSUnivOsanJRR25, Created=Fri Feb 19 05:41:15 +0000 2021, Text='RT @FransChocolates: Smoked Salt or Gray Salt Caramel? The classic confections for the classic Valentine. 💘 Stop by our Downtown, Universit…'),\n",
       " Status(ID=1362615126487097347, ScreenName=DSUAthletics, Created=Fri Feb 19 04:08:56 +0000 2021, Text=\"Men's Basketball - Lost 73-62 to Bellevue University\"),\n",
       " Status(ID=1362613925188108290, ScreenName=GoPhinsGBB, Created=Fri Feb 19 04:04:10 +0000 2021, Text=\"RT @DSUAthletics: (17)Women's Basketball - Won 86-75 over Bellevue University - 18TH STRAIGHT WIN and completed a perfect 14-0 NSAA record!\"),\n",
       " Status(ID=1362608525583802368, ScreenName=lexirobson_, Created=Fri Feb 19 03:42:43 +0000 2021, Text=\"RT @DSUAthletics: (17)Women's Basketball - Won 86-75 over Bellevue University - 18TH STRAIGHT WIN and completed a perfect 14-0 NSAA record!\"),\n",
       " Status(ID=1362601975020359683, ScreenName=BigCat_54, Created=Fri Feb 19 03:16:41 +0000 2021, Text=\"RT @DSUAthletics: (17)Women's Basketball - Won 86-75 over Bellevue University - 18TH STRAIGHT WIN and completed a perfect 14-0 NSAA record!\"),\n",
       " Status(ID=1362596771734712320, ScreenName=DebeerShay, Created=Fri Feb 19 02:56:00 +0000 2021, Text=\"RT @DSUAthletics: (17)Women's Basketball - Won 86-75 over Bellevue University - 18TH STRAIGHT WIN and completed a perfect 14-0 NSAA record!\"),\n",
       " Status(ID=1362578173821648897, ScreenName=jbranco_10, Created=Fri Feb 19 01:42:06 +0000 2021, Text=\"RT @DSUAthletics: (17)Women's Basketball - Won 86-75 over Bellevue University - 18TH STRAIGHT WIN and completed a perfect 14-0 NSAA record!\")]"
      ]
     },
     "execution_count": 34,
     "metadata": {},
     "output_type": "execute_result"
    }
   ],
   "source": [
    "api.GetSearch(term='Bellevue University', since=2019-2-10, count=10)"
   ]
  },
  {
   "cell_type": "markdown",
   "metadata": {},
   "source": [
    "# Making 3 Graphs on Candy Dataframe"
   ]
  },
  {
   "cell_type": "code",
   "execution_count": 35,
   "metadata": {},
   "outputs": [],
   "source": [
    "import pandas as pd\n",
    "import matplotlib.pyplot as plt"
   ]
  },
  {
   "cell_type": "code",
   "execution_count": 36,
   "metadata": {},
   "outputs": [],
   "source": [
    "candy = pd.read_excel('CANDY-HIERARCHY-2015-SURVEY-Responses.xlsx')"
   ]
  },
  {
   "cell_type": "code",
   "execution_count": 37,
   "metadata": {},
   "outputs": [
    {
     "data": {
      "text/plain": [
       "['Timestamp',\n",
       " 'How old are you?',\n",
       " 'Are you going actually going trick or treating yourself?',\n",
       " ' [Butterfinger]',\n",
       " ' [100 Grand Bar]',\n",
       " ' [Anonymous brown globs that come in black and orange wrappers]',\n",
       " ' [Any full-sized candy bar]',\n",
       " ' [Black Jacks]',\n",
       " ' [Bonkers]',\n",
       " ' [Bottle Caps]',\n",
       " ' [Box’o’ Raisins]',\n",
       " ' [Brach products (not including candy corn)]',\n",
       " ' [Bubble Gum]',\n",
       " ' [Cadbury Creme Eggs]',\n",
       " ' [Candy Corn]',\n",
       " ' [Vials of pure high fructose corn syrup, for main-lining into your vein]',\n",
       " ' [Candy that is clearly just the stuff given out for free at restaurants]',\n",
       " ' [Cash, or other forms of legal tender]',\n",
       " ' [Chiclets]',\n",
       " ' [Caramellos]',\n",
       " ' [Snickers]',\n",
       " ' [Dark Chocolate Hershey]',\n",
       " ' [Dental paraphenalia]',\n",
       " ' [Dots]',\n",
       " ' [Fuzzy Peaches]',\n",
       " ' [Generic Brand Acetaminophen]',\n",
       " ' [Glow sticks]',\n",
       " ' [Broken glow stick]',\n",
       " ' [Goo Goo Clusters]',\n",
       " \" [Good N' Plenty]\",\n",
       " ' [Gum from baseball cards]',\n",
       " ' [Gummy Bears straight up]',\n",
       " ' [Creepy Religious comics/Chick Tracts]',\n",
       " ' [Healthy Fruit]',\n",
       " ' [Heath Bar]',\n",
       " ' [Hershey’s Kissables]',\n",
       " ' [Hershey’s Milk Chocolate]',\n",
       " ' [Hugs (actual physical hugs)]',\n",
       " ' [Jolly Rancher (bad flavor)]',\n",
       " ' [Jolly Ranchers (good flavor)]',\n",
       " ' [Kale smoothie]',\n",
       " ' [Kinder Happy Hippo]',\n",
       " ' [Kit Kat]',\n",
       " ' [Hard Candy]',\n",
       " ' [Lapel Pins]',\n",
       " ' [LemonHeads]',\n",
       " ' [Licorice]',\n",
       " ' [Licorice (not black)]',\n",
       " ' [Lindt Truffle]',\n",
       " ' [Lollipops]',\n",
       " ' [Mars]',\n",
       " ' [Mary Janes]',\n",
       " ' [Maynards]',\n",
       " ' [Milk Duds]',\n",
       " ' [LaffyTaffy]',\n",
       " ' [Minibags of chips]',\n",
       " ' [JoyJoy (Mit Iodine)]',\n",
       " ' [Reggie Jackson Bar]',\n",
       " ' [Pixy Stix]',\n",
       " ' [Nerds]',\n",
       " ' [Nestle Crunch]',\n",
       " \" [Now'n'Laters]\",\n",
       " ' [Pencils]',\n",
       " ' [Milky Way]',\n",
       " ' [Reese’s Peanut Butter Cups]',\n",
       " ' [Tolberone something or other]',\n",
       " ' [Runts]',\n",
       " ' [Junior Mints]',\n",
       " ' [Senior Mints]',\n",
       " ' [Mint Kisses]',\n",
       " ' [Mint Juleps]',\n",
       " ' [Mint Leaves]',\n",
       " ' [Peanut M&M’s]',\n",
       " ' [Regular M&Ms]',\n",
       " ' [Mint M&Ms]',\n",
       " ' [Ribbon candy]',\n",
       " ' [Rolos]',\n",
       " ' [Skittles]',\n",
       " ' [Smarties (American)]',\n",
       " ' [Smarties (Commonwealth)]',\n",
       " ' [Chick-o-Sticks (we don’t know what that is)]',\n",
       " ' [Spotted Dick]',\n",
       " ' [Starburst]',\n",
       " ' [Swedish Fish]',\n",
       " ' [Sweetums]',\n",
       " ' [Those odd marshmallow circus peanut things]',\n",
       " ' [Three Musketeers]',\n",
       " ' [Peterson Brand Sidewalk Chalk]',\n",
       " ' [Peanut Butter Bars]',\n",
       " ' [Peanut Butter Jars]',\n",
       " ' [Trail Mix]',\n",
       " ' [Twix]',\n",
       " ' [Vicodin]',\n",
       " ' [White Bread]',\n",
       " ' [Whole Wheat anything]',\n",
       " ' [York Peppermint Patties]',\n",
       " 'Please leave any remarks or comments regarding your choices.',\n",
       " 'Please list any items not included above that give you JOY.',\n",
       " 'Please list any items not included above that give you DESPAIR.',\n",
       " 'Guess the number of mints in my hand.',\n",
       " 'Betty or Veronica?',\n",
       " 'Check all that apply: \"I cried tears of sadness at the end of  ____________\"',\n",
       " '\"That dress* that went viral early this year - when I first saw it, it was ________\"',\n",
       " 'Fill in the blank: \"Taylor Swift is a force for ___________\"',\n",
       " 'What is your favourite font?',\n",
       " 'If you squint really hard, the words \"Intelligent Design\" would look like.',\n",
       " 'Fill in the blank: \"Imitation is a form of ____________\"',\n",
       " 'Please estimate the degree(s) of separation you have from the following celebrities [JK Rowling]',\n",
       " 'Please estimate the degree(s) of separation you have from the following celebrities [JJ Abrams]',\n",
       " 'Please estimate the degree(s) of separation you have from the following celebrities [Beyoncé]',\n",
       " 'Please estimate the degree(s) of separation you have from the following celebrities [Bieber]',\n",
       " 'Please estimate the degree(s) of separation you have from the following celebrities [Kevin Bacon]',\n",
       " 'Please estimate the degree(s) of separation you have from the following celebrities [Francis Bacon (1561 - 1626)]',\n",
       " ' [Sea-salt flavored stuff, probably chocolate, since this is the \"it\" flavor of the year]',\n",
       " ' [Necco Wafers]',\n",
       " 'Which day do you prefer, Friday or Sunday?',\n",
       " 'Please estimate the degrees of separation you have from the following folks [Bruce Lee]',\n",
       " 'Please estimate the degrees of separation you have from the following folks [JK Rowling]',\n",
       " 'Please estimate the degrees of separation you have from the following folks [Malala Yousafzai]',\n",
       " 'Please estimate the degrees of separation you have from the following folks [Thom Yorke]',\n",
       " 'Please estimate the degrees of separation you have from the following folks [JJ Abrams]',\n",
       " 'Please estimate the degrees of separation you have from the following folks [Hillary Clinton]',\n",
       " 'Please estimate the degrees of separation you have from the following folks [Donald Trump]',\n",
       " 'Please estimate the degrees of separation you have from the following folks [Beyoncé Knowles]']"
      ]
     },
     "execution_count": 37,
     "metadata": {},
     "output_type": "execute_result"
    }
   ],
   "source": [
    "list(candy.columns)"
   ]
  },
  {
   "cell_type": "code",
   "execution_count": 38,
   "metadata": {},
   "outputs": [
    {
     "data": {
      "text/plain": [
       "JOY        4874\n",
       "DESPAIR     499\n",
       "Name:  [Reese’s Peanut Butter Cups], dtype: int64"
      ]
     },
     "execution_count": 38,
     "metadata": {},
     "output_type": "execute_result"
    }
   ],
   "source": [
    "candy[' [Reese’s Peanut Butter Cups]'].value_counts()"
   ]
  },
  {
   "cell_type": "code",
   "execution_count": 39,
   "metadata": {},
   "outputs": [
    {
     "data": {
      "image/png": "[encoded data removed]",
      "text/plain": [
       "<Figure size 432x288 with 1 Axes>"
      ]
     },
     "metadata": {},
     "output_type": "display_data"
    }
   ],
   "source": [
    "#Plot 1: Pie Chart of Reese's Cups\n",
    "\n",
    "labels = 'Joy', 'Despair'\n",
    "sizes = [4874, 499]\n",
    "\n",
    "colors = (\"#fe5200\", \"#fdef14\") \n",
    "fig1, ax1 = plt.subplots()\n",
    " \n",
    "ax1.pie(sizes, colors = colors, labels=labels,autopct='%1.1f%%')\n",
    "patches, texts, auto = ax1.pie(sizes, colors=colors, autopct='%1.1f%%' )\n",
    " \n",
    "plt.legend(patches, labels, loc=\"best\")\n",
    "plt.title(\"Reese's Peanut Butter Cups\")\n",
    "plt.axis('equal')\n",
    "plt.show()"
   ]
  },
  {
   "cell_type": "code",
   "execution_count": 40,
   "metadata": {},
   "outputs": [],
   "source": [
    "candy = candy.applymap(lambda s:s.title() if type(s) == str else s)\n",
    "vcs = pd.DataFrame(candy['What is your favourite font?'].value_counts().reset_index().values, columns=['Font', 'Count'])\n"
   ]
  },
  {
   "cell_type": "code",
   "execution_count": 41,
   "metadata": {},
   "outputs": [
    {
     "data": {
      "image/png": "[encoded data removed]",
      "text/plain": [
       "<Figure size 576x576 with 1 Axes>"
      ]
     },
     "metadata": {
      "needs_background": "light"
     },
     "output_type": "display_data"
    }
   ],
   "source": [
    "#Plot 2: Bar Chart of Favorite Fonts\n",
    "\n",
    "plt.figure(figsize=(8,8))\n",
    "plt.bar(vcs[:10].Font.astype(str), vcs[:10].Count.astype(int), edgecolor='k')\n",
    "plt.xticks(rotation=80)\n",
    "plt.title('Bar Chart of Favorite Fonts', fontsize=20)\n",
    "plt.grid(True, alpha=0.3)"
   ]
  },
  {
   "cell_type": "code",
   "execution_count": 42,
   "metadata": {},
   "outputs": [
    {
     "data": {
      "image/png": "[encoded data removed]",
      "text/plain": [
       "<Figure size 576x504 with 1 Axes>"
      ]
     },
     "metadata": {
      "needs_background": "light"
     },
     "output_type": "display_data"
    }
   ],
   "source": [
    "#Plot 3: Making a histogram of people filling out the survey by day\n",
    "\n",
    "plt.figure(figsize=(8,7))\n",
    "plt.hist(candy.Timestamp, bins=8, align='left')\n",
    "plt.xticks(rotation=80)\n",
    "plt.title('Histogram of Surveys Taken per Day', fontsize=20)\n",
    "plt.ylabel('Count')\n",
    "plt.grid(True, alpha=0.3)\n",
    "plt.show()"
   ]
  },
  {
   "cell_type": "markdown",
   "metadata": {},
   "source": [
    "Sorry for including both bar and histogram. I wanted to make a scatter of ages and a typically old person candy (Werther Originals weren't on here so maybe Dots or something) just to see if I could see a difference in ages of people who like things. Unfortunately the age column wasn't just a drop down and select menu so it is a mess to work with. Like really bad. Someone decided to make their age the first 8102 digits of pi. And a lot of people just wrote in funny responses. It was a pain and frustrating to get ready to be put into a scatter so I passed"
   ]
  },
  {
   "cell_type": "code",
   "execution_count": 43,
   "metadata": {},
   "outputs": [
    {
     "data": {
      "text/plain": [
       "8102"
      ]
     },
     "execution_count": 43,
     "metadata": {},
     "output_type": "execute_result"
    }
   ],
   "source": [
    "len(candy['How old are you?'][3337])"
   ]
  },
  {
   "cell_type": "code",
   "execution_count": null,
   "metadata": {},
   "outputs": [],
   "source": []
  }
 ],
 "metadata": {
  "kernelspec": {
   "display_name": "Python 3",
   "language": "python",
   "name": "python3"
  },
  "language_info": {
   "codemirror_mode": {
    "name": "ipython",
    "version": 3
   },
   "file_extension": ".py",
   "mimetype": "text/x-python",
   "name": "python",
   "nbconvert_exporter": "python",
   "pygments_lexer": "ipython3",
   "version": "3.8.3"
  },
  "latex_envs": {
   "LaTeX_envs_menu_present": true,
   "autoclose": false,
   "autocomplete": true,
   "bibliofile": "biblio.bib",
   "cite_by": "apalike",
   "current_citInitial": 1,
   "eqLabelWithNumbers": true,
   "eqNumInitial": 1,
   "hotkeys": {
    "equation": "Ctrl-E",
    "itemize": "Ctrl-I"
   },
   "labels_anchors": false,
   "latex_user_defs": false,
   "report_style_numbering": false,
   "user_envs_cfg": false
  }
 },
 "nbformat": 4,
 "nbformat_minor": 2
}
