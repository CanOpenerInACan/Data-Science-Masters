{
 "cells": [
  {
   "cell_type": "markdown",
   "metadata": {},
   "source": [
    "David Lattimer  \n",
    "1/21/2021  \n",
    "DSC 540\n",
    "# Week 5-6 Activities"
   ]
  },
  {
   "cell_type": "code",
   "execution_count": 1,
   "metadata": {},
   "outputs": [],
   "source": [
    "import pandas as pd\n",
    "import numpy as np\n",
    "import sqlite3\n",
    "import matplotlib.pyplot as plt"
   ]
  },
  {
   "cell_type": "markdown",
   "metadata": {},
   "source": [
    "# SQL Lite Database "
   ]
  },
  {
   "cell_type": "code",
   "execution_count": 2,
   "metadata": {},
   "outputs": [],
   "source": [
    "# Insert data into a SQL Lite database – create a table with the following data \n",
    "#    a. Name, Address, City, State, Zip, Phone Number\n",
    "#    b. Add at least 10 rows of data and submit your code with a query generating your results."
   ]
  },
  {
   "cell_type": "code",
   "execution_count": 3,
   "metadata": {},
   "outputs": [],
   "source": [
    "query = '''\n",
    ".....: CREATE TABLE new\n",
    ".....: (a VARCHAR(20), b VARCHAR(20),\n",
    ".....:  c VARCHAR(20), d VARCHAR(20),\n",
    ".....:  e INTEGER,     f VARCHAR(20) \n",
    ".....: );'''"
   ]
  },
  {
   "cell_type": "code",
   "execution_count": 4,
   "metadata": {},
   "outputs": [],
   "source": [
    "conn = sqlite3.connect('mydata.sqlite')"
   ]
  },
  {
   "cell_type": "code",
   "execution_count": 5,
   "metadata": {},
   "outputs": [
    {
     "data": {
      "text/plain": [
       "<sqlite3.Cursor at 0x207a6b86490>"
      ]
     },
     "execution_count": 5,
     "metadata": {},
     "output_type": "execute_result"
    }
   ],
   "source": [
    "conn.execute(query)"
   ]
  },
  {
   "cell_type": "code",
   "execution_count": 6,
   "metadata": {},
   "outputs": [],
   "source": [
    "conn.commit()"
   ]
  },
  {
   "cell_type": "code",
   "execution_count": 7,
   "metadata": {},
   "outputs": [],
   "source": [
    "data = [('David Lattimer', '20680 Pitchfork Dr.', 'Riverside', 'CA', 92507, '951-452-2976'),\n",
    "        ('Jeffery Lebowski', '10 White Russian Way', 'Los Angeles', 'CA', 90001, '626-843-3833'),\n",
    "        ('Harry Kane', '12 White Hart Lane', 'London', 'COYS', 70773, '102-030-4050'),\n",
    "       ('Frank Gonzalez', '1920 Westminster Blvd.', 'Pomona', 'CA', 91750, '888-928-0982'),\n",
    "       ('Barthalomew Bittersburg', '10 Oldsville Ln.', 'Yorkshire', 'MI', 48009, '123-456-7890'),\n",
    "        ('Jimmy Bobby', '40 Fake St.', 'San Diego', 'CA', 22434, '573-293-0445'),\n",
    "        ('First Last', '100 Via Address', 'Salt Lake City', 'UT', 10000, '808-808-8008'),\n",
    "        ('Donald Trump', '30 Loser St.', 'New York', 'NY', 10001, '100-530-9299'),\n",
    "        ('Jack Black', '420 Tenacious Dr.', 'Los Angeles', 'CA', 90001, '900-420-6969'),\n",
    "        ('Bellevue Bruin', '1000 Galvin Rd S', 'Bellevue', 'NE', 68005, '402-293-2000')]"
   ]
  },
  {
   "cell_type": "code",
   "execution_count": 8,
   "metadata": {},
   "outputs": [],
   "source": [
    "stmt = 'INSERT INTO new VALUES(?, ?, ?, ?, ?, ?)'"
   ]
  },
  {
   "cell_type": "code",
   "execution_count": 9,
   "metadata": {},
   "outputs": [
    {
     "data": {
      "text/plain": [
       "<sqlite3.Cursor at 0x207a6b860a0>"
      ]
     },
     "execution_count": 9,
     "metadata": {},
     "output_type": "execute_result"
    }
   ],
   "source": [
    "conn.executemany(stmt, data)"
   ]
  },
  {
   "cell_type": "code",
   "execution_count": 10,
   "metadata": {},
   "outputs": [],
   "source": [
    "conn.commit()"
   ]
  },
  {
   "cell_type": "code",
   "execution_count": 11,
   "metadata": {},
   "outputs": [],
   "source": [
    "cursor = conn.execute('select * from new')\n",
    "rows = cursor.fetchall()"
   ]
  },
  {
   "cell_type": "code",
   "execution_count": 12,
   "metadata": {},
   "outputs": [
    {
     "data": {
      "text/plain": [
       "[('David Lattimer',\n",
       "  '20680 Pitchfork Dr.',\n",
       "  'Riverside',\n",
       "  'CA',\n",
       "  92507,\n",
       "  '951-452-2976'),\n",
       " ('Jeffery Lebowski',\n",
       "  '10 White Russian Way',\n",
       "  'Los Angeles',\n",
       "  'CA',\n",
       "  90001,\n",
       "  '626-843-3833'),\n",
       " ('Harry Kane', '12 White Hart Lane', 'London', 'COYS', 70773, '102-030-4050'),\n",
       " ('Frank Gonzalez',\n",
       "  '1920 Westminster Blvd.',\n",
       "  'Pomona',\n",
       "  'CA',\n",
       "  91750,\n",
       "  '888-928-0982'),\n",
       " ('Barthalomew Bittersburg',\n",
       "  '10 Oldsville Ln.',\n",
       "  'Yorkshire',\n",
       "  'MI',\n",
       "  48009,\n",
       "  '123-456-7890'),\n",
       " ('Jimmy Bobby', '40 Fake St.', 'San Diego', 'CA', 22434, '573-293-0445'),\n",
       " ('First Last',\n",
       "  '100 Via Address',\n",
       "  'Salt Lake City',\n",
       "  'UT',\n",
       "  10000,\n",
       "  '808-808-8008'),\n",
       " ('Donald Trump', '30 Loser St.', 'New York', 'NY', 10001, '100-530-9299'),\n",
       " ('Jack Black',\n",
       "  '420 Tenacious Dr.',\n",
       "  'Los Angeles',\n",
       "  'CA',\n",
       "  90001,\n",
       "  '900-420-6969'),\n",
       " ('Bellevue Bruin',\n",
       "  '1000 Galvin Rd S',\n",
       "  'Bellevue',\n",
       "  'NE',\n",
       "  68005,\n",
       "  '402-293-2000')]"
      ]
     },
     "execution_count": 12,
     "metadata": {},
     "output_type": "execute_result"
    }
   ],
   "source": [
    "rows"
   ]
  },
  {
   "cell_type": "code",
   "execution_count": 13,
   "metadata": {},
   "outputs": [
    {
     "data": {
      "text/plain": [
       "(('a', None, None, None, None, None, None),\n",
       " ('b', None, None, None, None, None, None),\n",
       " ('c', None, None, None, None, None, None),\n",
       " ('d', None, None, None, None, None, None),\n",
       " ('e', None, None, None, None, None, None),\n",
       " ('f', None, None, None, None, None, None))"
      ]
     },
     "execution_count": 13,
     "metadata": {},
     "output_type": "execute_result"
    }
   ],
   "source": [
    "cursor.description"
   ]
  },
  {
   "cell_type": "code",
   "execution_count": 14,
   "metadata": {},
   "outputs": [
    {
     "data": {
      "text/html": [
       "<div>\n",
       "<style scoped>\n",
       "    .dataframe tbody tr th:only-of-type {\n",
       "        vertical-align: middle;\n",
       "    }\n",
       "\n",
       "    .dataframe tbody tr th {\n",
       "        vertical-align: top;\n",
       "    }\n",
       "\n",
       "    .dataframe thead th {\n",
       "        text-align: right;\n",
       "    }\n",
       "</style>\n",
       "<table border=\"1\" class=\"dataframe\">\n",
       "  <thead>\n",
       "    <tr style=\"text-align: right;\">\n",
       "      <th></th>\n",
       "      <th>a</th>\n",
       "      <th>b</th>\n",
       "      <th>c</th>\n",
       "      <th>d</th>\n",
       "      <th>e</th>\n",
       "      <th>f</th>\n",
       "    </tr>\n",
       "  </thead>\n",
       "  <tbody>\n",
       "    <tr>\n",
       "      <th>0</th>\n",
       "      <td>David Lattimer</td>\n",
       "      <td>20680 Pitchfork Dr.</td>\n",
       "      <td>Riverside</td>\n",
       "      <td>CA</td>\n",
       "      <td>92507</td>\n",
       "      <td>951-452-2976</td>\n",
       "    </tr>\n",
       "    <tr>\n",
       "      <th>1</th>\n",
       "      <td>Jeffery Lebowski</td>\n",
       "      <td>10 White Russian Way</td>\n",
       "      <td>Los Angeles</td>\n",
       "      <td>CA</td>\n",
       "      <td>90001</td>\n",
       "      <td>626-843-3833</td>\n",
       "    </tr>\n",
       "    <tr>\n",
       "      <th>2</th>\n",
       "      <td>Harry Kane</td>\n",
       "      <td>12 White Hart Lane</td>\n",
       "      <td>London</td>\n",
       "      <td>COYS</td>\n",
       "      <td>70773</td>\n",
       "      <td>102-030-4050</td>\n",
       "    </tr>\n",
       "    <tr>\n",
       "      <th>3</th>\n",
       "      <td>Frank Gonzalez</td>\n",
       "      <td>1920 Westminster Blvd.</td>\n",
       "      <td>Pomona</td>\n",
       "      <td>CA</td>\n",
       "      <td>91750</td>\n",
       "      <td>888-928-0982</td>\n",
       "    </tr>\n",
       "    <tr>\n",
       "      <th>4</th>\n",
       "      <td>Barthalomew Bittersburg</td>\n",
       "      <td>10 Oldsville Ln.</td>\n",
       "      <td>Yorkshire</td>\n",
       "      <td>MI</td>\n",
       "      <td>48009</td>\n",
       "      <td>123-456-7890</td>\n",
       "    </tr>\n",
       "    <tr>\n",
       "      <th>5</th>\n",
       "      <td>Jimmy Bobby</td>\n",
       "      <td>40 Fake St.</td>\n",
       "      <td>San Diego</td>\n",
       "      <td>CA</td>\n",
       "      <td>22434</td>\n",
       "      <td>573-293-0445</td>\n",
       "    </tr>\n",
       "    <tr>\n",
       "      <th>6</th>\n",
       "      <td>First Last</td>\n",
       "      <td>100 Via Address</td>\n",
       "      <td>Salt Lake City</td>\n",
       "      <td>UT</td>\n",
       "      <td>10000</td>\n",
       "      <td>808-808-8008</td>\n",
       "    </tr>\n",
       "    <tr>\n",
       "      <th>7</th>\n",
       "      <td>Donald Trump</td>\n",
       "      <td>30 Loser St.</td>\n",
       "      <td>New York</td>\n",
       "      <td>NY</td>\n",
       "      <td>10001</td>\n",
       "      <td>100-530-9299</td>\n",
       "    </tr>\n",
       "    <tr>\n",
       "      <th>8</th>\n",
       "      <td>Jack Black</td>\n",
       "      <td>420 Tenacious Dr.</td>\n",
       "      <td>Los Angeles</td>\n",
       "      <td>CA</td>\n",
       "      <td>90001</td>\n",
       "      <td>900-420-6969</td>\n",
       "    </tr>\n",
       "    <tr>\n",
       "      <th>9</th>\n",
       "      <td>Bellevue Bruin</td>\n",
       "      <td>1000 Galvin Rd S</td>\n",
       "      <td>Bellevue</td>\n",
       "      <td>NE</td>\n",
       "      <td>68005</td>\n",
       "      <td>402-293-2000</td>\n",
       "    </tr>\n",
       "  </tbody>\n",
       "</table>\n",
       "</div>"
      ],
      "text/plain": [
       "                         a                       b               c     d  \\\n",
       "0           David Lattimer     20680 Pitchfork Dr.       Riverside    CA   \n",
       "1         Jeffery Lebowski    10 White Russian Way     Los Angeles    CA   \n",
       "2               Harry Kane      12 White Hart Lane          London  COYS   \n",
       "3           Frank Gonzalez  1920 Westminster Blvd.          Pomona    CA   \n",
       "4  Barthalomew Bittersburg        10 Oldsville Ln.       Yorkshire    MI   \n",
       "5              Jimmy Bobby             40 Fake St.       San Diego    CA   \n",
       "6               First Last         100 Via Address  Salt Lake City    UT   \n",
       "7             Donald Trump            30 Loser St.        New York    NY   \n",
       "8               Jack Black       420 Tenacious Dr.     Los Angeles    CA   \n",
       "9           Bellevue Bruin        1000 Galvin Rd S        Bellevue    NE   \n",
       "\n",
       "       e             f  \n",
       "0  92507  951-452-2976  \n",
       "1  90001  626-843-3833  \n",
       "2  70773  102-030-4050  \n",
       "3  91750  888-928-0982  \n",
       "4  48009  123-456-7890  \n",
       "5  22434  573-293-0445  \n",
       "6  10000  808-808-8008  \n",
       "7  10001  100-530-9299  \n",
       "8  90001  900-420-6969  \n",
       "9  68005  402-293-2000  "
      ]
     },
     "execution_count": 14,
     "metadata": {},
     "output_type": "execute_result"
    }
   ],
   "source": [
    "pd.DataFrame(rows, columns=[x[0] for x in cursor.description])"
   ]
  },
  {
   "cell_type": "markdown",
   "metadata": {},
   "source": [
    "# Activity 7"
   ]
  },
  {
   "cell_type": "code",
   "execution_count": 15,
   "metadata": {},
   "outputs": [],
   "source": [
    "from bs4 import BeautifulSoup\n",
    "from urllib.request import urlopen"
   ]
  },
  {
   "cell_type": "code",
   "execution_count": 16,
   "metadata": {},
   "outputs": [],
   "source": [
    "# I'm doing this the way it wants in the answer sheet, even though I feel like just putting it\n",
    "# Into pd.read_html and going from there is a lot easier\n",
    "url = 'https://en.wikipedia.org/wiki/List_of_countries_by_GDP_(nominal)'\n",
    "html = urlopen(url)\n",
    "soup = BeautifulSoup(html, 'html.parser')"
   ]
  },
  {
   "cell_type": "code",
   "execution_count": 17,
   "metadata": {},
   "outputs": [
    {
     "name": "stdout",
     "output_type": "stream",
     "text": [
      "There are 10 tables in total\n"
     ]
    }
   ],
   "source": [
    "# Find how many tables are on the webpage\n",
    "all_tables = soup.find_all('table')\n",
    "print('There are ' + str(len(all_tables)) + ' tables in total')"
   ]
  },
  {
   "cell_type": "code",
   "execution_count": 18,
   "metadata": {},
   "outputs": [
    {
     "name": "stdout",
     "output_type": "stream",
     "text": [
      "<class 'bs4.element.Tag'>\n"
     ]
    }
   ],
   "source": [
    "# Make sure they are actually tables\n",
    "data_table = soup.find('table', {'class': 'wikitable'})\n",
    "print(type(data_table))"
   ]
  },
  {
   "cell_type": "code",
   "execution_count": 19,
   "metadata": {},
   "outputs": [
    {
     "name": "stdout",
     "output_type": "stream",
     "text": [
      "There are only 3 of the tables we want\n"
     ]
    }
   ],
   "source": [
    "sources = data_table.tbody.findAll('tr', recursive=False)[0]\n",
    "sources_list = [td for td in sources.findAll('td')]\n",
    "print('There are only ' + str(len(sources_list)) + ' of the tables we want')"
   ]
  },
  {
   "cell_type": "code",
   "execution_count": 20,
   "metadata": {},
   "outputs": [],
   "source": [
    "# This finds all our tables\n",
    "data = data_table.tbody.findAll('tr', recursive=False)[1].findAll('td', recursive=False)"
   ]
  },
  {
   "cell_type": "code",
   "execution_count": 21,
   "metadata": {},
   "outputs": [],
   "source": [
    "# This takes all the information from the tables\n",
    "data_tables = []\n",
    "for td in data:\n",
    "    data_tables.append(td.findAll('table'))"
   ]
  },
  {
   "cell_type": "code",
   "execution_count": 22,
   "metadata": {},
   "outputs": [
    {
     "data": {
      "text/plain": [
       "3"
      ]
     },
     "execution_count": 22,
     "metadata": {},
     "output_type": "execute_result"
    }
   ],
   "source": [
    "# Hey look still 3 tables\n",
    "len(data_tables)"
   ]
  },
  {
   "cell_type": "code",
   "execution_count": 23,
   "metadata": {},
   "outputs": [
    {
     "name": "stdout",
     "output_type": "stream",
     "text": [
      "['International Monetary Fund', 'World Bank', 'United Nations']\n"
     ]
    }
   ],
   "source": [
    "# This takes the titles from the tables. Looking at the page, this is above the top of the table\n",
    "source_names = [source.findAll('a')[0].getText() for source in sources_list]\n",
    "print(source_names)"
   ]
  },
  {
   "cell_type": "code",
   "execution_count": 24,
   "metadata": {},
   "outputs": [],
   "source": [
    "# This takes all the rows under the headers and has all the data we will use to make the datatable\n",
    "rows1 = data_tables[0][0].findAll('tbody')[0].findAll('tr')[1:]"
   ]
  },
  {
   "cell_type": "code",
   "execution_count": 25,
   "metadata": {},
   "outputs": [],
   "source": [
    "data_rows1 = [[td.get_text().strip() for td in tr.findAll('td')] for tr in rows1]"
   ]
  },
  {
   "cell_type": "code",
   "execution_count": 26,
   "metadata": {},
   "outputs": [],
   "source": [
    "#This makes our dataframe. I wasn't able to make the header1 work so I added it here. Sorry\n",
    "df1 = pd.DataFrame(data_rows1, columns = ['Rank', 'Country/Territory', 'GDP (US$million)'])"
   ]
  },
  {
   "cell_type": "code",
   "execution_count": 27,
   "metadata": {},
   "outputs": [
    {
     "data": {
      "text/html": [
       "<div>\n",
       "<style scoped>\n",
       "    .dataframe tbody tr th:only-of-type {\n",
       "        vertical-align: middle;\n",
       "    }\n",
       "\n",
       "    .dataframe tbody tr th {\n",
       "        vertical-align: top;\n",
       "    }\n",
       "\n",
       "    .dataframe thead th {\n",
       "        text-align: right;\n",
       "    }\n",
       "</style>\n",
       "<table border=\"1\" class=\"dataframe\">\n",
       "  <thead>\n",
       "    <tr style=\"text-align: right;\">\n",
       "      <th></th>\n",
       "      <th>Rank</th>\n",
       "      <th>Country/Territory</th>\n",
       "      <th>GDP (US$million)</th>\n",
       "    </tr>\n",
       "  </thead>\n",
       "  <tbody>\n",
       "    <tr>\n",
       "      <th>0</th>\n",
       "      <td></td>\n",
       "      <td>World[19]</td>\n",
       "      <td>83,844,988</td>\n",
       "    </tr>\n",
       "    <tr>\n",
       "      <th>1</th>\n",
       "      <td>1</td>\n",
       "      <td>United States</td>\n",
       "      <td>20,807,269</td>\n",
       "    </tr>\n",
       "    <tr>\n",
       "      <th>2</th>\n",
       "      <td>2</td>\n",
       "      <td>China[n 2][n 3]</td>\n",
       "      <td>14,860,775</td>\n",
       "    </tr>\n",
       "    <tr>\n",
       "      <th>3</th>\n",
       "      <td>3</td>\n",
       "      <td>Japan</td>\n",
       "      <td>4,910,580</td>\n",
       "    </tr>\n",
       "    <tr>\n",
       "      <th>4</th>\n",
       "      <td>4</td>\n",
       "      <td>Germany</td>\n",
       "      <td>3,780,553</td>\n",
       "    </tr>\n",
       "    <tr>\n",
       "      <th>...</th>\n",
       "      <td>...</td>\n",
       "      <td>...</td>\n",
       "      <td>...</td>\n",
       "    </tr>\n",
       "    <tr>\n",
       "      <th>191</th>\n",
       "      <td>191</td>\n",
       "      <td>Marshall Islands</td>\n",
       "      <td>225</td>\n",
       "    </tr>\n",
       "    <tr>\n",
       "      <th>192</th>\n",
       "      <td>192</td>\n",
       "      <td>Kiribati</td>\n",
       "      <td>194</td>\n",
       "    </tr>\n",
       "    <tr>\n",
       "      <th>193</th>\n",
       "      <td>193</td>\n",
       "      <td>Nauru</td>\n",
       "      <td>114</td>\n",
       "    </tr>\n",
       "    <tr>\n",
       "      <th>194</th>\n",
       "      <td>194</td>\n",
       "      <td>Tuvalu</td>\n",
       "      <td>45</td>\n",
       "    </tr>\n",
       "    <tr>\n",
       "      <th>195</th>\n",
       "      <td>—</td>\n",
       "      <td>Syria</td>\n",
       "      <td>N/A</td>\n",
       "    </tr>\n",
       "  </tbody>\n",
       "</table>\n",
       "<p>196 rows × 3 columns</p>\n",
       "</div>"
      ],
      "text/plain": [
       "    Rank Country/Territory GDP (US$million)\n",
       "0                World[19]       83,844,988\n",
       "1      1     United States       20,807,269\n",
       "2      2   China[n 2][n 3]       14,860,775\n",
       "3      3             Japan        4,910,580\n",
       "4      4           Germany        3,780,553\n",
       "..   ...               ...              ...\n",
       "191  191  Marshall Islands              225\n",
       "192  192          Kiribati              194\n",
       "193  193             Nauru              114\n",
       "194  194            Tuvalu               45\n",
       "195    —             Syria              N/A\n",
       "\n",
       "[196 rows x 3 columns]"
      ]
     },
     "execution_count": 27,
     "metadata": {},
     "output_type": "execute_result"
    }
   ],
   "source": [
    "df1"
   ]
  },
  {
   "cell_type": "code",
   "execution_count": 28,
   "metadata": {},
   "outputs": [
    {
     "data": {
      "text/plain": [
       "10"
      ]
     },
     "execution_count": 28,
     "metadata": {},
     "output_type": "execute_result"
    }
   ],
   "source": [
    "#Why would we just use this? \n",
    "list_of_df = pd.read_html(url)\n",
    "len(list_of_df)"
   ]
  },
  {
   "cell_type": "code",
   "execution_count": 29,
   "metadata": {},
   "outputs": [
    {
     "name": "stdout",
     "output_type": "stream",
     "text": [
      "(1, 1)\n",
      "(1, 3)\n",
      "(605, 3)\n",
      "(196, 3)\n",
      "(191, 3)\n",
      "(213, 3)\n",
      "(7, 2)\n",
      "(9, 2)\n",
      "(12, 2)\n",
      "(2, 2)\n"
     ]
    }
   ],
   "source": [
    "#Look for the 3 data frames, around 200x3\n",
    "for t in list_of_df:\n",
    "    print(t.shape)"
   ]
  },
  {
   "cell_type": "code",
   "execution_count": 30,
   "metadata": {},
   "outputs": [],
   "source": [
    "# Set our dataframes\n",
    "df_1 = list_of_df[3]\n",
    "df_2 = list_of_df[4]\n",
    "df_3 = list_of_df[5]"
   ]
  },
  {
   "cell_type": "code",
   "execution_count": 31,
   "metadata": {},
   "outputs": [
    {
     "data": {
      "text/html": [
       "<div>\n",
       "<style scoped>\n",
       "    .dataframe tbody tr th:only-of-type {\n",
       "        vertical-align: middle;\n",
       "    }\n",
       "\n",
       "    .dataframe tbody tr th {\n",
       "        vertical-align: top;\n",
       "    }\n",
       "\n",
       "    .dataframe thead th {\n",
       "        text-align: right;\n",
       "    }\n",
       "</style>\n",
       "<table border=\"1\" class=\"dataframe\">\n",
       "  <thead>\n",
       "    <tr style=\"text-align: right;\">\n",
       "      <th></th>\n",
       "      <th>Rank</th>\n",
       "      <th>Country/Territory</th>\n",
       "      <th>GDP(US$million)</th>\n",
       "    </tr>\n",
       "  </thead>\n",
       "  <tbody>\n",
       "    <tr>\n",
       "      <th>0</th>\n",
       "      <td>NaN</td>\n",
       "      <td>World[19]</td>\n",
       "      <td>83844988.0</td>\n",
       "    </tr>\n",
       "    <tr>\n",
       "      <th>1</th>\n",
       "      <td>1</td>\n",
       "      <td>United States</td>\n",
       "      <td>20807269.0</td>\n",
       "    </tr>\n",
       "    <tr>\n",
       "      <th>2</th>\n",
       "      <td>2</td>\n",
       "      <td>China[n 2][n 3]</td>\n",
       "      <td>14860775.0</td>\n",
       "    </tr>\n",
       "    <tr>\n",
       "      <th>3</th>\n",
       "      <td>3</td>\n",
       "      <td>Japan</td>\n",
       "      <td>4910580.0</td>\n",
       "    </tr>\n",
       "    <tr>\n",
       "      <th>4</th>\n",
       "      <td>4</td>\n",
       "      <td>Germany</td>\n",
       "      <td>3780553.0</td>\n",
       "    </tr>\n",
       "  </tbody>\n",
       "</table>\n",
       "</div>"
      ],
      "text/plain": [
       "  Rank Country/Territory  GDP(US$million)\n",
       "0  NaN         World[19]       83844988.0\n",
       "1    1     United States       20807269.0\n",
       "2    2   China[n 2][n 3]       14860775.0\n",
       "3    3             Japan        4910580.0\n",
       "4    4           Germany        3780553.0"
      ]
     },
     "execution_count": 31,
     "metadata": {},
     "output_type": "execute_result"
    }
   ],
   "source": [
    "# The only real difference between this and the other method working with all the html is\n",
    "# we don't have the titles of the table. But this is a lot easier for now\n",
    "df_1.head()"
   ]
  },
  {
   "cell_type": "code",
   "execution_count": 32,
   "metadata": {},
   "outputs": [
    {
     "data": {
      "text/html": [
       "<div>\n",
       "<style scoped>\n",
       "    .dataframe tbody tr th:only-of-type {\n",
       "        vertical-align: middle;\n",
       "    }\n",
       "\n",
       "    .dataframe tbody tr th {\n",
       "        vertical-align: top;\n",
       "    }\n",
       "\n",
       "    .dataframe thead th {\n",
       "        text-align: right;\n",
       "    }\n",
       "</style>\n",
       "<table border=\"1\" class=\"dataframe\">\n",
       "  <thead>\n",
       "    <tr style=\"text-align: right;\">\n",
       "      <th></th>\n",
       "      <th>Rank</th>\n",
       "      <th>Country/Territory</th>\n",
       "      <th>GDP(US$million)</th>\n",
       "    </tr>\n",
       "  </thead>\n",
       "  <tbody>\n",
       "    <tr>\n",
       "      <th>0</th>\n",
       "      <td>NaN</td>\n",
       "      <td>World</td>\n",
       "      <td>87751541</td>\n",
       "    </tr>\n",
       "    <tr>\n",
       "      <th>1</th>\n",
       "      <td>1.0</td>\n",
       "      <td>United States</td>\n",
       "      <td>21427700</td>\n",
       "    </tr>\n",
       "    <tr>\n",
       "      <th>2</th>\n",
       "      <td>2.0</td>\n",
       "      <td>China[n 9]</td>\n",
       "      <td>14342903</td>\n",
       "    </tr>\n",
       "    <tr>\n",
       "      <th>3</th>\n",
       "      <td>3.0</td>\n",
       "      <td>Japan</td>\n",
       "      <td>5081770</td>\n",
       "    </tr>\n",
       "    <tr>\n",
       "      <th>4</th>\n",
       "      <td>4.0</td>\n",
       "      <td>Germany</td>\n",
       "      <td>3845630</td>\n",
       "    </tr>\n",
       "  </tbody>\n",
       "</table>\n",
       "</div>"
      ],
      "text/plain": [
       "   Rank Country/Territory  GDP(US$million)\n",
       "0   NaN             World         87751541\n",
       "1   1.0     United States         21427700\n",
       "2   2.0        China[n 9]         14342903\n",
       "3   3.0             Japan          5081770\n",
       "4   4.0           Germany          3845630"
      ]
     },
     "execution_count": 32,
     "metadata": {},
     "output_type": "execute_result"
    }
   ],
   "source": [
    "df_2.head()"
   ]
  },
  {
   "cell_type": "code",
   "execution_count": 33,
   "metadata": {},
   "outputs": [
    {
     "data": {
      "text/html": [
       "<div>\n",
       "<style scoped>\n",
       "    .dataframe tbody tr th:only-of-type {\n",
       "        vertical-align: middle;\n",
       "    }\n",
       "\n",
       "    .dataframe tbody tr th {\n",
       "        vertical-align: top;\n",
       "    }\n",
       "\n",
       "    .dataframe thead th {\n",
       "        text-align: right;\n",
       "    }\n",
       "</style>\n",
       "<table border=\"1\" class=\"dataframe\">\n",
       "  <thead>\n",
       "    <tr style=\"text-align: right;\">\n",
       "      <th></th>\n",
       "      <th>Rank</th>\n",
       "      <th>Country/Territory</th>\n",
       "      <th>GDP(US$million)</th>\n",
       "    </tr>\n",
       "  </thead>\n",
       "  <tbody>\n",
       "    <tr>\n",
       "      <th>0</th>\n",
       "      <td>NaN</td>\n",
       "      <td>World[22]</td>\n",
       "      <td>87445260</td>\n",
       "    </tr>\n",
       "    <tr>\n",
       "      <th>1</th>\n",
       "      <td>1.0</td>\n",
       "      <td>United States</td>\n",
       "      <td>21433226</td>\n",
       "    </tr>\n",
       "    <tr>\n",
       "      <th>2</th>\n",
       "      <td>2.0</td>\n",
       "      <td>China[n 9]</td>\n",
       "      <td>14342933</td>\n",
       "    </tr>\n",
       "    <tr>\n",
       "      <th>3</th>\n",
       "      <td>3.0</td>\n",
       "      <td>Japan</td>\n",
       "      <td>5082465</td>\n",
       "    </tr>\n",
       "    <tr>\n",
       "      <th>4</th>\n",
       "      <td>4.0</td>\n",
       "      <td>Germany</td>\n",
       "      <td>3861123</td>\n",
       "    </tr>\n",
       "  </tbody>\n",
       "</table>\n",
       "</div>"
      ],
      "text/plain": [
       "   Rank Country/Territory  GDP(US$million)\n",
       "0   NaN         World[22]         87445260\n",
       "1   1.0     United States         21433226\n",
       "2   2.0        China[n 9]         14342933\n",
       "3   3.0             Japan          5082465\n",
       "4   4.0           Germany          3861123"
      ]
     },
     "execution_count": 33,
     "metadata": {},
     "output_type": "execute_result"
    }
   ],
   "source": [
    "df_3.head()"
   ]
  },
  {
   "cell_type": "markdown",
   "metadata": {},
   "source": [
    "**Explanation:** It seems like it is a lot easier to just run the explanation used in the book, without using the complex way that wasn't really explained in the chapter and was completely new in the answers in the back of the book. I wanted to try it that way since maybe it'll help or learn something new but it was very convoluted. Is using this method I did at the end alright? It makes the dataframes and we can work with them from there. The only real downside is we don't end up with the titles of the tables from the webpage, but we can either name the df the title we want or can probably find a way to add it. Also it doesn't seem to be part of the assignment but from here would want to work with the dataframes such as removing the [n 9] from China and the hyperlinks that pop up on Wikipedia all the time, formatting the large numbers to be more readable and probably changing the rank from float to an integer. But thats for another time. "
   ]
  },
  {
   "cell_type": "markdown",
   "metadata": {},
   "source": [
    "# Activity 8"
   ]
  },
  {
   "cell_type": "code",
   "execution_count": 34,
   "metadata": {},
   "outputs": [],
   "source": [
    "#Read the visit_data.csv file\n",
    "\n",
    "vd = pd.read_csv('visit_data.csv')"
   ]
  },
  {
   "cell_type": "code",
   "execution_count": 35,
   "metadata": {},
   "outputs": [
    {
     "data": {
      "text/html": [
       "<div>\n",
       "<style scoped>\n",
       "    .dataframe tbody tr th:only-of-type {\n",
       "        vertical-align: middle;\n",
       "    }\n",
       "\n",
       "    .dataframe tbody tr th {\n",
       "        vertical-align: top;\n",
       "    }\n",
       "\n",
       "    .dataframe thead th {\n",
       "        text-align: right;\n",
       "    }\n",
       "</style>\n",
       "<table border=\"1\" class=\"dataframe\">\n",
       "  <thead>\n",
       "    <tr style=\"text-align: right;\">\n",
       "      <th></th>\n",
       "      <th>id</th>\n",
       "      <th>first_name</th>\n",
       "      <th>last_name</th>\n",
       "      <th>email</th>\n",
       "      <th>gender</th>\n",
       "      <th>ip_address</th>\n",
       "      <th>visit</th>\n",
       "    </tr>\n",
       "  </thead>\n",
       "  <tbody>\n",
       "    <tr>\n",
       "      <th>0</th>\n",
       "      <td>1</td>\n",
       "      <td>Sonny</td>\n",
       "      <td>Dahl</td>\n",
       "      <td>sdahl0@mysql.com</td>\n",
       "      <td>Male</td>\n",
       "      <td>135.36.96.183</td>\n",
       "      <td>1225.0</td>\n",
       "    </tr>\n",
       "    <tr>\n",
       "      <th>1</th>\n",
       "      <td>2</td>\n",
       "      <td>NaN</td>\n",
       "      <td>NaN</td>\n",
       "      <td>dhoovart1@hud.gov</td>\n",
       "      <td>NaN</td>\n",
       "      <td>237.165.194.143</td>\n",
       "      <td>919.0</td>\n",
       "    </tr>\n",
       "    <tr>\n",
       "      <th>2</th>\n",
       "      <td>3</td>\n",
       "      <td>Gar</td>\n",
       "      <td>Armal</td>\n",
       "      <td>garmal2@technorati.com</td>\n",
       "      <td>NaN</td>\n",
       "      <td>166.43.137.224</td>\n",
       "      <td>271.0</td>\n",
       "    </tr>\n",
       "    <tr>\n",
       "      <th>3</th>\n",
       "      <td>4</td>\n",
       "      <td>Chiarra</td>\n",
       "      <td>Nulty</td>\n",
       "      <td>cnulty3@newyorker.com</td>\n",
       "      <td>NaN</td>\n",
       "      <td>139.98.137.108</td>\n",
       "      <td>1002.0</td>\n",
       "    </tr>\n",
       "    <tr>\n",
       "      <th>4</th>\n",
       "      <td>5</td>\n",
       "      <td>NaN</td>\n",
       "      <td>NaN</td>\n",
       "      <td>sleaver4@elegantthemes.com</td>\n",
       "      <td>NaN</td>\n",
       "      <td>46.117.117.27</td>\n",
       "      <td>2434.0</td>\n",
       "    </tr>\n",
       "  </tbody>\n",
       "</table>\n",
       "</div>"
      ],
      "text/plain": [
       "   id first_name last_name                       email gender  \\\n",
       "0   1      Sonny      Dahl            sdahl0@mysql.com   Male   \n",
       "1   2        NaN       NaN           dhoovart1@hud.gov    NaN   \n",
       "2   3        Gar     Armal      garmal2@technorati.com    NaN   \n",
       "3   4    Chiarra     Nulty       cnulty3@newyorker.com    NaN   \n",
       "4   5        NaN       NaN  sleaver4@elegantthemes.com    NaN   \n",
       "\n",
       "        ip_address   visit  \n",
       "0    135.36.96.183  1225.0  \n",
       "1  237.165.194.143   919.0  \n",
       "2   166.43.137.224   271.0  \n",
       "3   139.98.137.108  1002.0  \n",
       "4    46.117.117.27  2434.0  "
      ]
     },
     "execution_count": 35,
     "metadata": {},
     "output_type": "execute_result"
    }
   ],
   "source": [
    "# We will use this to look at the row names and make sure the dataframe worked\n",
    "vd.head()"
   ]
  },
  {
   "cell_type": "code",
   "execution_count": 36,
   "metadata": {},
   "outputs": [
    {
     "name": "stdout",
     "output_type": "stream",
     "text": [
      "There are 5 duplicated values in the first name column\n"
     ]
    }
   ],
   "source": [
    "#Here are the rows where the first names are duplicated. Many of them are 'NaN' which will show as duplicates\n",
    "#This means we are missing a lot of data on names in our dataset we didn't get\n",
    "print('There are {} duplicated values in the first name column'.format(len(vd[vd.first_name.duplicated() == 1].head())))"
   ]
  },
  {
   "cell_type": "code",
   "execution_count": 37,
   "metadata": {},
   "outputs": [
    {
     "name": "stdout",
     "output_type": "stream",
     "text": [
      "There are 5 duplicated values in the last name column\n"
     ]
    }
   ],
   "source": [
    "#Here are the rows with last names duplicated. A lot more NaN's, the email is the important part \n",
    "#of the dataframe so we need to have no NaNs there\n",
    "print('There are {} duplicated values in the last name column'.format(len(vd[vd.last_name.duplicated() == 1].head())))"
   ]
  },
  {
   "cell_type": "code",
   "execution_count": 38,
   "metadata": {},
   "outputs": [
    {
     "name": "stdout",
     "output_type": "stream",
     "text": [
      "There are 0 duplicated values in the Email column\n"
     ]
    }
   ],
   "source": [
    "#Here is the moment of truth, emails\n",
    "print('There are {} duplicated values in the Email column'.format(len(vd[vd.email.duplicated() == 1])))"
   ]
  },
  {
   "cell_type": "code",
   "execution_count": 39,
   "metadata": {},
   "outputs": [
    {
     "name": "stdout",
     "output_type": "stream",
     "text": [
      "There are 0 duplicated values in the IP Address column\n"
     ]
    }
   ],
   "source": [
    "#Same here with IP Address which should all be unique (Unless we had two people in the same household)\n",
    "print('There are {} duplicated values in the IP Address column'.format(len(vd[vd.ip_address.duplicated() == 1])))"
   ]
  },
  {
   "cell_type": "code",
   "execution_count": 40,
   "metadata": {},
   "outputs": [
    {
     "name": "stdout",
     "output_type": "stream",
     "text": [
      "There are 0 missing values in the email column\n"
     ]
    }
   ],
   "source": [
    "#Check to see if there are any NaN's in essential columns (email, IP Address and visit)\n",
    "#We did this alrady by looking for duplicates since NaNs would pop up but lets do it again\n",
    "\n",
    "#Looking for email\n",
    "print('There are {} missing values in the email column'.format(len(vd[vd.email.isnull()])))"
   ]
  },
  {
   "cell_type": "code",
   "execution_count": 41,
   "metadata": {},
   "outputs": [
    {
     "name": "stdout",
     "output_type": "stream",
     "text": [
      "There are 0 missing values in the IP Address column\n"
     ]
    }
   ],
   "source": [
    "#Looking for IP Address\n",
    "print('There are {} missing values in the IP Address column'.format(len(vd[vd.ip_address.isnull()])))"
   ]
  },
  {
   "cell_type": "code",
   "execution_count": 42,
   "metadata": {},
   "outputs": [
    {
     "name": "stdout",
     "output_type": "stream",
     "text": [
      "There are 26 missing values in the visit column\n"
     ]
    }
   ],
   "source": [
    "#NaNs in visit column\n",
    "print('There are {} missing values in the visit column'.format(len(vd[vd.visit.isnull()])))"
   ]
  },
  {
   "cell_type": "code",
   "execution_count": 43,
   "metadata": {},
   "outputs": [],
   "source": [
    "#Original shape of our dataframe\n",
    "full_vd = vd.shape"
   ]
  },
  {
   "cell_type": "code",
   "execution_count": 44,
   "metadata": {},
   "outputs": [],
   "source": [
    "#This removes the rows with NaNs in the visit column\n",
    "vd = vd[np.isfinite(vd.visit)]"
   ]
  },
  {
   "cell_type": "code",
   "execution_count": 45,
   "metadata": {},
   "outputs": [
    {
     "name": "stdout",
     "output_type": "stream",
     "text": [
      "The original dataframe had 1000 rows and the new dataframe removing missing visit values has 974 rows.\n"
     ]
    }
   ],
   "source": [
    "#This shows the difference between rows originally and now\n",
    "print('The original dataframe had {} rows and the new dataframe removing missing visit values has {} rows.'\n",
    "     .format(full_vd[0], vd.shape[0]))"
   ]
  },
  {
   "cell_type": "code",
   "execution_count": 46,
   "metadata": {},
   "outputs": [
    {
     "data": {
      "image/png": "[encoded data removed]",
      "text/plain": [
       "<Figure size 288x432 with 1 Axes>"
      ]
     },
     "metadata": {
      "needs_background": "light"
     },
     "output_type": "display_data"
    }
   ],
   "source": [
    "# Make our boxplot\n",
    "plt.figure(figsize=(4,6))\n",
    "plt.boxplot(vd.visit)\n",
    "plt.xticks([],[])\n",
    "plt.ylabel('Visits', fontsize=12)\n",
    "plt.title('Boxplot of Visits', fontsize=14)\n",
    "plt.show()"
   ]
  },
  {
   "cell_type": "code",
   "execution_count": 47,
   "metadata": {},
   "outputs": [
    {
     "data": {
      "text/plain": [
       "count     974.000000\n",
       "mean     1497.976386\n",
       "std       838.959460\n",
       "min         1.000000\n",
       "25%       794.500000\n",
       "50%      1477.000000\n",
       "75%      2224.250000\n",
       "max      2998.000000\n",
       "Name: visit, dtype: float64"
      ]
     },
     "execution_count": 47,
     "metadata": {},
     "output_type": "execute_result"
    }
   ],
   "source": [
    "#Our boxplot doesn't show any outliers. Lets also look at the outlier formula (upper bound = 75% + 1.5(iqr))\n",
    "vd.visit.describe()"
   ]
  },
  {
   "cell_type": "code",
   "execution_count": 48,
   "metadata": {},
   "outputs": [],
   "source": [
    "#Set our IQR, Upper bound and lower bounc\n",
    "iqr = 2224-794\n",
    "upper = 2224 + 1.5*iqr\n",
    "lower = 794 - 1.5*iqr"
   ]
  },
  {
   "cell_type": "code",
   "execution_count": 49,
   "metadata": {},
   "outputs": [
    {
     "name": "stdout",
     "output_type": "stream",
     "text": [
      "Our upper bound is 4369.0 and our lower bound is -1351.0\n"
     ]
    }
   ],
   "source": [
    "print('Our upper bound is {} and our lower bound is {}'.format(upper, lower))"
   ]
  },
  {
   "cell_type": "code",
   "execution_count": 50,
   "metadata": {},
   "outputs": [],
   "source": [
    "#Again, all our points are within this. The book wanted us to make our bounds to be 100-2900, for no real reason.\n",
    "#So lets get rid of things outside of those limits\n",
    "\n",
    "vd = vd[(vd.visit > 100) & (vd.visit < 2900)]"
   ]
  },
  {
   "cell_type": "code",
   "execution_count": 51,
   "metadata": {},
   "outputs": [
    {
     "name": "stdout",
     "output_type": "stream",
     "text": [
      "Our new dataframe without missing values in the key columns and without outliers has 923 rows\n"
     ]
    }
   ],
   "source": [
    "print('Our new dataframe without missing values in the key columns and without outliers has {} rows'\n",
    "     .format(vd.shape[0]))"
   ]
  },
  {
   "cell_type": "code",
   "execution_count": null,
   "metadata": {},
   "outputs": [],
   "source": []
  }
 ],
 "metadata": {
  "kernelspec": {
   "display_name": "Python 3",
   "language": "python",
   "name": "python3"
  },
  "language_info": {
   "codemirror_mode": {
    "name": "ipython",
    "version": 3
   },
   "file_extension": ".py",
   "mimetype": "text/x-python",
   "name": "python",
   "nbconvert_exporter": "python",
   "pygments_lexer": "ipython3",
   "version": "3.8.3"
  }
 },
 "nbformat": 4,
 "nbformat_minor": 4
}
